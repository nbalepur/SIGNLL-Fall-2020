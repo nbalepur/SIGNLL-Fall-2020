{
 "cells": [
  {
   "cell_type": "markdown",
   "metadata": {},
   "source": [
    "### Welcome to our first notebook! As always, we'll start by importing numpy\n",
    "**Note: every slide can be run by pressing \"ctrl and enter\"**"
   ]
  },
  {
   "cell_type": "code",
   "execution_count": null,
   "metadata": {},
   "outputs": [],
   "source": [
    "import numpy as np"
   ]
  },
  {
   "cell_type": "markdown",
   "metadata": {},
   "source": [
    "We can more logically organize our code into functions. Functions are given input variables and perform some operation on them, and then return that value. Complete the sample function below:\n",
    "\n",
    "<br></br>\n",
    "<details>    \n",
    "<summary>\n",
    "    <font size=\"3\" color=\"darkgreen\"><b>Solution</b></font>\n",
    "</summary>\n",
    "\n",
    "<ul>\n",
    "    <p>Replace \"return [sum]\" with \"return a + b\"</p>\n",
    "</ul>\n",
    "\n"
   ]
  },
  {
   "cell_type": "code",
   "execution_count": null,
   "metadata": {},
   "outputs": [],
   "source": [
    "def add_numbers(a, b):\n",
    "    # Your code here - return the sum of the numbers\n",
    "    # return"
   ]
  },
  {
   "cell_type": "code",
   "execution_count": null,
   "metadata": {},
   "outputs": [],
   "source": [
    "print(\"a = 1, b = 2\")\n",
    "print(\"Expected value: 3\")\n",
    "print(\"Your value: {0}\".format(add_numbers(1, 2)))"
   ]
  },
  {
   "cell_type": "markdown",
   "metadata": {},
   "source": [
    "**Next, we will write a function that uses the following rules:**\n",
    "\n",
    "Write a short program that prints each number from 0 to n inclusive on a new line\n",
    "\n",
    "For each multiple of 3, print \"Fizz\" instead of the number\n",
    "\n",
    "For each multiple of 5, print \"Buzz\" instead of the number\n",
    "\n",
    "For numbers which are multiples of both 3 and 5, print \"FizzBuzz\" instead of the number\n",
    "\n",
    "\n",
    "*You might find this link useful for conditionals (if statements): https://www.w3schools.com/python/python_conditions.asp*\n",
    "\n",
    "<br></br>\n",
    "<details>    \n",
    "<summary>\n",
    "    <font size=\"3\" color=\"darkgreen\"><b>Hint 1</b></font>\n",
    "</summary>\n",
    "\n",
    "<ul>\n",
    "    <p>\"for i in range(1, n):\" will loop through numbers 0 to n</p>\n",
    "</ul>\n",
    "</details>\n",
    "\n",
    "<details>  \n",
    "<summary>\n",
    "    <font size=\"3\" color=\"darkgreen\"><b>Hint 2</b></font>\n",
    "</summary>\n",
    "\n",
    "<ul>\n",
    "    <p>The modulus function % returns the remainder of dividing two numbers</p>\n",
    "    <p>For example: 4 % 2 is 0</p>\n",
    "</ul>\n",
    "</details>"
   ]
  },
  {
   "cell_type": "code",
   "execution_count": null,
   "metadata": {},
   "outputs": [],
   "source": [
    "def fizz_buzz(n):\n",
    "    # Your code here - make sure your indenting is correct!"
   ]
  },
  {
   "cell_type": "code",
   "execution_count": null,
   "metadata": {},
   "outputs": [],
   "source": [
    "# test your function here\n",
    "fizz_buzz(15)"
   ]
  },
  {
   "cell_type": "code",
   "execution_count": null,
   "metadata": {},
   "outputs": [],
   "source": [
    "# run this cell to compare it to the test case\n",
    "from IPython.display import Image\n",
    "Image(filename = \"./FizzBuzz.png\", width=700, height=700)\n",
    "\n",
    "# this is what what fizz_buzz(15) should print:"
   ]
  },
  {
   "cell_type": "markdown",
   "metadata": {},
   "source": [
    "#### Next, we will write a function to practice working with arrays\n",
    "\n",
    "Write a program that takes an array, a beginning index, and an ending index. Return the \"subarray\" given these parameters\n",
    "\n",
    "Note: the index is **inclusive**\n",
    "\n",
    "Example 1:<br></br>\n",
    "array = [1, 2, 3, 4], begin_index = 1, end_index = 2<br></br>\n",
    "return [2, 3]\n",
    "\n",
    "\n",
    "Example 2:<br></br>\n",
    "array = [9, 2, 4, 7, 3], begin_index = 2, end_index = 4<br></br>\n",
    "return [4, 7, 3]\n",
    "\n",
    "\n",
    "<br></br>\n",
    "<details>    \n",
    "<summary>\n",
    "    <font size=\"3\" color=\"darkgreen\"><b>Hint 1</b></font>\n",
    "</summary>\n",
    "\n",
    "<ul>\n",
    "    How to get subarrays: https://www.pythoncentral.io/how-to-slice-listsarrays-and-tuples-in-python/\n",
    "</ul>\n",
    "</details>"
   ]
  },
  {
   "cell_type": "code",
   "execution_count": null,
   "metadata": {},
   "outputs": [],
   "source": [
    "def get_subarray(array, begin_index, end_index):\n",
    "    # Your code here - return the subarray from begin_index to end_index, inclusive\n",
    "    # return "
   ]
  },
  {
   "cell_type": "code",
   "execution_count": null,
   "metadata": {},
   "outputs": [],
   "source": [
    "# run this cell to do the two test cases above\n",
    "print(\"Test case 1: \")\n",
    "print(\"array = [1, 2, 3, 4], begin_index = 1, end_index = 2\")\n",
    "print(\"Expected value: [2, 3]\")\n",
    "print(\"Your value: {0}\".format(get_subarray([1, 2, 3, 4], 1, 2)))\n",
    "print(\"\")\n",
    "print(\"Test case 2: \")\n",
    "print(\"array = [9, 2, 4, 7, 3], begin_index = 2, end_index = 4\")\n",
    "print(\"Expected value: [4, 7, 3]\")\n",
    "print(\"Your value: {0}\".format(get_subarray([9, 2, 4, 7, 3], 2, 4)))"
   ]
  },
  {
   "cell_type": "markdown",
   "metadata": {},
   "source": [
    "*Our next few functions will be using numpy*\n",
    "\n",
    "**For our first function, you need to count the number of elements greater than 0. The function will be given a list, which you will need to convert to a numpy array and perform some operations on**\n",
    "\n",
    "Note: You can sum an array of boolean expressions to count the number of true's in the array\n",
    "\n",
    "Example 1:<br></br>\n",
    "array = [-1, 0, 2]<br></br>\n",
    "return 1\n",
    "\n",
    "\n",
    "Example 2:<br></br>\n",
    "array = [-10, 10, -2, -5, 5]<br></br>\n",
    "return 3"
   ]
  },
  {
   "cell_type": "code",
   "execution_count": null,
   "metadata": {},
   "outputs": [],
   "source": [
    "def count_positive_elements(array):\n",
    "    # convert the array into a numpy array\n",
    "    \n",
    "    # use an operator to get true/false for if each element is greater than 0\n",
    "    \n",
    "    # return the number of true's in that array\n",
    "    # return"
   ]
  },
  {
   "cell_type": "code",
   "execution_count": null,
   "metadata": {},
   "outputs": [],
   "source": [
    "# run this cell to do the two test cases above\n",
    "print(\"Test case 1: \")\n",
    "print(\"array = [-1, 0, 2]\")\n",
    "print(\"Expected value: 1\")\n",
    "print(\"Your value: {0}\".format(count_positive_elements([-1, 0, 2])))\n",
    "print(\"\")\n",
    "print(\"Test case 2: \")\n",
    "print(\"array = [-10, 10, -2, -5, 5]\")\n",
    "print(\"Expected value: 3\")\n",
    "print(\"Your value: {0}\".format(count_positive_elements([8, 10, -2, -5, 5])))"
   ]
  },
  {
   "cell_type": "markdown",
   "metadata": {},
   "source": [
    "**Next, let's create a method to generate and return the first 10 perfect squares**\n",
    "\n",
    "There's many ways to do this, so feel free to look up different functions that might be helpful!\n",
    "\n",
    "<br></br>\n",
    "<details>    \n",
    "<summary>\n",
    "    <font size=\"3\" color=\"darkgreen\"><b>Hint 1</b></font>\n",
    "</summary>\n",
    "\n",
    "<ul>\n",
    "    One possible method would be to generate the numbers from 1 to 10 in a numpy array.\n",
    "    Then, you could multiply that array by itself to get the perfect squares!\n",
    "</ul>\n",
    "</details>"
   ]
  },
  {
   "cell_type": "code",
   "execution_count": null,
   "metadata": {},
   "outputs": [],
   "source": [
    "def first_10_perfect_squares():\n",
    "    \n",
    "    # return"
   ]
  },
  {
   "cell_type": "code",
   "execution_count": null,
   "metadata": {},
   "outputs": [],
   "source": [
    "print(\"Expected value: [1, 4, 9, 16, 25, 36, 49, 64, 81, 100]\")\n",
    "print(\"Your output: {0}\".format(first_10_perfect_squares()))"
   ]
  },
  {
   "cell_type": "markdown",
   "metadata": {},
   "source": [
    "**Finally, let's make a function to check if multiplying two matrices would be valid or invalid. Your function will be given two numpy matrices as inputs and output true if matrix multiplication is possible, and false otherwise**\n",
    "\n",
    "Recall that for A * B to be valid, the number of columns of A must be equal to the number of rows of B\n",
    "\n",
    "<br></br>\n",
    "<details>    \n",
    "<summary>\n",
    "    <font size=\"3\" color=\"darkgreen\"><b>Hint 1</b></font>\n",
    "</summary>\n",
    "\n",
    "<ul>\n",
    "    Use numpy.shape to get the dimensions of the matrices. numpy.shape returns an array, which you can index\n",
    "</ul>\n",
    "</details>"
   ]
  },
  {
   "cell_type": "code",
   "execution_count": null,
   "metadata": {},
   "outputs": [],
   "source": [
    "def check_matrix_mult(A, B):\n",
    "    # return "
   ]
  },
  {
   "cell_type": "code",
   "execution_count": null,
   "metadata": {},
   "outputs": [],
   "source": [
    "A = np.array([[1, 2, 3], [4, 5, 6]])\n",
    "B = np.array([[1, 2], [3, 4], [5, 6]])\n",
    "print(\"A = A, B = B\")\n",
    "print(\"Expected value: True\")\n",
    "print(\"Your output: {0}\".format(check_matrix_mult(A, B)))\n",
    "print(\"\")\n",
    "print(\"A = A.T, B = B.T\")\n",
    "print(\"Expected value: True\")\n",
    "print(\"Your output: {0}\".format(check_matrix_mult(A.T, B.T)))\n",
    "print(\"\")\n",
    "print(\"A = A, B = B.T\")\n",
    "print(\"Expected value: False\")\n",
    "print(\"Your output: {0}\".format(check_matrix_mult(A, B.T)))"
   ]
  }
 ],
 "metadata": {
  "kernelspec": {
   "display_name": "Python 3",
   "language": "python",
   "name": "python3"
  },
  "language_info": {
   "codemirror_mode": {
    "name": "ipython",
    "version": 3
   },
   "file_extension": ".py",
   "mimetype": "text/x-python",
   "name": "python",
   "nbconvert_exporter": "python",
   "pygments_lexer": "ipython3",
   "version": "3.7.3"
  }
 },
 "nbformat": 4,
 "nbformat_minor": 2
}
