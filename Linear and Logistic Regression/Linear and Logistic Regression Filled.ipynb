{
 "cells": [
  {
   "cell_type": "markdown",
   "metadata": {},
   "source": [
    "# 9/17 : Linear and Logistic Regression\n",
    "\n",
    "Hi everyone! In this notebook, we'll be going over linear and logistic regression, two of the most fundamental algorithms for natural language processing\n",
    "\n",
    "In this notebook, we have the following methods for you to fill out:\n",
    "1. `lin_reg_cost()`\n",
    "2. `lin_reg_derivative()`\n",
    "3. `linear_grad_descent()`\n",
    "4. whats up\n",
    "\n",
    "We'll start by importing numpy, as well as matplotlib for graphing"
   ]
  },
  {
   "cell_type": "code",
   "execution_count": 1,
   "metadata": {},
   "outputs": [],
   "source": [
    "import numpy as np\n",
    "import matplotlib.pyplot as plt\n",
    "import matplotlib.patches as mpatches"
   ]
  },
  {
   "cell_type": "markdown",
   "metadata": {},
   "source": [
    "## Part 1: Calculating the cost for linear regression\n",
    "\n",
    "Below, we have the function definition for `lin_reg_cost()`\n",
    "\n",
    "Recall that the `cost` of our predicted values for linear regression can be calculated by the following formula:\n",
    "\n",
    "<img src=\"https://latex.codecogs.com/png.latex?\\dpi{150}&space;\\frac{1}{2m}\\sum_{i&space;=&space;1}^{m}(predicted&space;-&space;actual)^2\" title=\"\\frac{1}{2m}\\sum_{i = 1}^{m}(predicted - actual)^2\" />\n",
    "\n",
    "Calculate the `cost` according to that formula, and return the result"
   ]
  },
  {
   "cell_type": "markdown",
   "metadata": {},
   "source": [
    "<details>    \n",
    "<summary>\n",
    "    <font size=\"3\" color=\"darkgreen\"><b>Hints</b></font>\n",
    "</summary>\n",
    "<p>\n",
    "<ul>\n",
    "    <li>Try to use numpy functions! You might find <code>np.sum()</code> and <code>np.square()</code> very useful</li>\n",
    "\n",
    "</ul>\n",
    "</p>"
   ]
  },
  {
   "cell_type": "code",
   "execution_count": 2,
   "metadata": {},
   "outputs": [],
   "source": [
    "def lin_reg_cost(predicted, actual, m):\n",
    "    cost = (1 / (2 * m)) * np.sum(np.square(predicted - actual))\n",
    "    return cost"
   ]
  },
  {
   "cell_type": "code",
   "execution_count": 6,
   "metadata": {},
   "outputs": [
    {
     "name": "stdout",
     "output_type": "stream",
     "text": [
      "Outputted cost: 0.0028013707428165427\n",
      "Expected cost: 0.0028013707428165427\n",
      "Nice one!\n"
     ]
    }
   ],
   "source": [
    "# run this cell to test your code\n",
    "np.random.seed(0)\n",
    "predicted_test = np.random.random((4, 1))\n",
    "actual_test = np.random.random((4, 1))\n",
    "m_test = 30\n",
    "\n",
    "calc_linear_reg_cost = lin_reg_cost(predicted_test, actual_test, m_test)\n",
    "\n",
    "print(\"Outputted cost: {0}\".format(calc_linear_reg_cost))\n",
    "print(\"Expected cost: 0.0028013707428165427\")\n",
    "\n",
    "if (calc_linear_reg_cost == 0.0028013707428165427):\n",
    "      print(\"Nice one!\")\n",
    "else:\n",
    "      print(\"Yikes\")"
   ]
  },
  {
   "cell_type": "markdown",
   "metadata": {},
   "source": [
    "## Part 2: Calculating the cost derivative for linear regression\n",
    "\n",
    "Now that we have the `cost`, we will evaluate `lin_reg_derivative` for each slope of `lin_reg_cost`\n",
    "\n",
    "The derivative of our `cost` function is:\n",
    "\n",
    "<img src=\"https://latex.codecogs.com/png.latex?\\dpi{150}&space;\\frac{1}{m}\\sum_{i&space;=&space;1}^{m}[x_i&space;*&space;(predicted&space;-&space;actual)]\" title=\"\\frac{1}{m}\\sum_{i = 1}^{m}[x_i * (predicted - actual)]\" />\n",
    "\n",
    "<br></br>\n",
    "To avoid looping through every value, we can simplify this using matrix functions to:\n",
    "\n",
    "<img src=\"https://latex.codecogs.com/png.latex?\\dpi{150}&space;\\frac{1}{m}&space;*&space;[X^T&space;\\cdot&space;(predicted&space;-&space;actual)]\" title=\"\\frac{1}{m} * [X^T \\cdot (predicted - actual)]\" />\n",
    "\n",
    "**Note: • represents the matirx dot product (matrix multiplication), and X = inputs**\n",
    "\n",
    "Calculate the `derivative` and return its value"
   ]
  },
  {
   "cell_type": "markdown",
   "metadata": {},
   "source": [
    "<details>    \n",
    "<summary>\n",
    "    <font size=\"3\" color=\"darkgreen\"><b>Hints</b></font>\n",
    "</summary>\n",
    "<p>\n",
    "<ul>\n",
    "    <li>Make sure you are transposing the matrix and taking the dot product (not just multiplying)</li>\n",
    "</ul>\n",
    "</p>"
   ]
  },
  {
   "cell_type": "code",
   "execution_count": 7,
   "metadata": {},
   "outputs": [],
   "source": [
    "def lin_reg_derivative(predicted, actual, inputs, m):\n",
    "    derivative = (1 / m) * (inputs.T @ (predicted - actual))\n",
    "    return derivative"
   ]
  },
  {
   "cell_type": "code",
   "execution_count": 8,
   "metadata": {},
   "outputs": [
    {
     "name": "stdout",
     "output_type": "stream",
     "text": [
      "Expected values: [0.0081553, 0.0069101]\n",
      "Actual values: [0.0081553, 0.0069101]\n",
      "You're all good here homie!\n"
     ]
    }
   ],
   "source": [
    "# run this cell to test your code\n",
    "np.random.seed(0)\n",
    "predicted_test = np.random.random((4, 1))\n",
    "actual_test = np.random.random((4, 1))\n",
    "m_test = 30\n",
    "inputs_test = np.random.random((4, 2))\n",
    "\n",
    "calc_lin_deriv = np.round(lin_reg_derivative(predicted_test, actual_test, inputs_test, m_test), 7)\n",
    "\n",
    "print(\"Expected values: [0.0081553, 0.0069101]\")\n",
    "print(\"Actual values: [{0}, {1}]\".format(calc_lin_deriv[0][0], calc_lin_deriv[1][0]))\n",
    "\n",
    "if (calc_lin_deriv.shape != (2, 1)):\n",
    "    print(\"Incorrect dimensions\")\n",
    "elif (calc_lin_deriv[0] != 0.0081553):\n",
    "    print(\"Incorrect value at index 0\")\n",
    "elif (calc_lin_deriv[1] != 0.0069101):\n",
    "    print(\"Incorrect value at index 1\")\n",
    "else:\n",
    "    print(\"You're all good here homie!\")"
   ]
  },
  {
   "cell_type": "markdown",
   "metadata": {},
   "source": [
    "## Part 3: Testing your linear regression algorithm\n",
    "\n",
    "Now that we have our `cost` and `cost derivative` values calculated, we can test our algorithm!"
   ]
  },
  {
   "cell_type": "markdown",
   "metadata": {},
   "source": [
    "We will start by creating and plotting our data set"
   ]
  },
  {
   "cell_type": "code",
   "execution_count": 9,
   "metadata": {},
   "outputs": [
    {
     "data": {
      "text/plain": [
       "Text(0, 0.5, 'y')"
      ]
     },
     "execution_count": 9,
     "metadata": {},
     "output_type": "execute_result"
    },
    {
     "data": {
      "image/png": "[encoded data removed]",
      "text/plain": [
       "<Figure size 720x432 with 1 Axes>"
      ]
     },
     "metadata": {
      "needs_background": "light"
     },
     "output_type": "display_data"
    }
   ],
   "source": [
    "# initialize a random data set\n",
    "random_x = np.random.random(75) * 10 - 5\n",
    "random_y = 0.01 * (np.power(random_x, 3) * (np.random.random(75) * 2 + 3) + np.square(random_x) * (np.random.random(75) * 2 - 2) + random_x * (np.random.random(75) * 2 + 1) + np.random.random(75) * 2)\n",
    "\n",
    "# graph this data\n",
    "fig = plt.gcf()\n",
    "fig.set_size_inches(10, 6)\n",
    "plt.plot(random_x, random_y, 'ro')\n",
    "plt.xlabel(\"x\", fontsize = 16)\n",
    "plt.ylabel(\"y\", fontsize = 16)"
   ]
  },
  {
   "cell_type": "markdown",
   "metadata": {},
   "source": [
    "A big part of modeling is deciding which function best fits our data\n",
    "\n",
    "In this case, it's safe to assume that this function is:\n",
    "\n",
    "\n",
    "<img src=\"https://latex.codecogs.com/png.latex?\\dpi{150}&space;y&space;=&space;\\Theta_0&space;&plus;&space;\\Theta_1&space;x&space;&plus;&space;\\Theta_2x^2&space;&plus;&space;\\Theta_3x^3\" title=\"y = \\Theta_0 + \\Theta_1 x + \\Theta_2x^2 + \\Theta_3x^3\" />"
   ]
  },
  {
   "cell_type": "markdown",
   "metadata": {},
   "source": [
    "Next we need to define our constants for gradient descent, namely: \n",
    "\n",
    "- `m`\n",
    "- `learning_rate`\n",
    "- `num_iterations`\n",
    "\n",
    "Feel free to experiment with different values for `learning_rate` and `num_iterations`!"
   ]
  },
  {
   "cell_type": "code",
   "execution_count": 10,
   "metadata": {},
   "outputs": [],
   "source": [
    "m = len(random_x)\n",
    "learning_rate = 0.00001\n",
    "num_iterations = 100000"
   ]
  },
  {
   "cell_type": "markdown",
   "metadata": {},
   "source": [
    "We also need to define an array `lin_thetas` to store the values of our slopes and intercepts\n",
    "\n",
    "For linear regression, we need to set our `lin_thetas` to be small, random, and with dimension of **(4, 1)**\n",
    "\n",
    "Additionally, we need to set up our x and y values, `lin_reg_x` and `lin_reg_y`"
   ]
  },
  {
   "cell_type": "code",
   "execution_count": 11,
   "metadata": {},
   "outputs": [],
   "source": [
    "# randomize our thetas\n",
    "lin_thetas = np.random.random((4, 1)) - 0.5\n",
    "# format our plot points for gradient descent\n",
    "lin_reg_x = np.array([np.ones(m), random_x.T, np.square(random_x.T), np.power(random_x.T, 3)]).T\n",
    "lin_reg_y = np.array([random_y]).T"
   ]
  },
  {
   "cell_type": "markdown",
   "metadata": {},
   "source": [
    "This is where you are going to write the bulk of the logic for linear regression\n",
    "\n",
    "Complete the function `linear_grad_descent`, which performs the following steps for each `iteration`:\n",
    "1. Calculates the `predicted_y`\n",
    "2. Calculates the `gradients`, the negative derivative of `lin_thetas`\n",
    "3. Adjusts `lin_thetas` appropriately\n",
    "\n",
    "At the end of the function, it should return the calculated value of thetas"
   ]
  },
  {
   "cell_type": "markdown",
   "metadata": {},
   "source": [
    "<details>    \n",
    "<summary>\n",
    "    <font size=\"3\" color=\"darkgreen\"><b>Hint for Step 1</b></font>\n",
    "</summary>\n",
    "<p>\n",
    "<ul>\n",
    "    <li><code>predicted_y</code> can be calculated by taking the dot product of <code>lin_reg_x</code> and <code>lin_thetas</code></li>\n",
    "</ul>\n",
    "</p>"
   ]
  },
  {
   "cell_type": "markdown",
   "metadata": {},
   "source": [
    "<details>    \n",
    "<summary>\n",
    "    <font size=\"3\" color=\"darkgreen\"><b>Hints for Step 2</b></font>\n",
    "</summary>\n",
    "<p>\n",
    "<ul>\n",
    "    <li>Use <code>lin_reg_derivative</code> to calculate <code>gradients</code></li>\n",
    "    <li>Make sure you're using the right variables in the right spot of the method signature!</li>\n",
    "</ul>\n",
    "</p>"
   ]
  },
  {
   "cell_type": "markdown",
   "metadata": {},
   "source": [
    "<details>    \n",
    "<summary>\n",
    "    <font size=\"3\" color=\"darkgreen\"><b>Hint for Step 3</b></font>\n",
    "</summary>\n",
    "<p>\n",
    "<ul>\n",
    "    <li>For each <code>iteration</code>, set <code>lin_thetas</code> equal to <code>lin_thetas - learning_rate * gradients</code></li>\n",
    "\n",
    "</ul>\n",
    "</p>"
   ]
  },
  {
   "cell_type": "code",
   "execution_count": 12,
   "metadata": {},
   "outputs": [],
   "source": [
    "def linear_grad_descent(x, actual_y, thetas, learning_rate, m, num_iterations):\n",
    "    for iteration in range(num_iterations):\n",
    "        predicted_y = x @ thetas\n",
    "        gradients = lin_reg_derivative(predicted_y, actual_y, x, m)\n",
    "        thetas = thetas - learning_rate * gradients\n",
    "    return thetas"
   ]
  },
  {
   "cell_type": "markdown",
   "metadata": {},
   "source": [
    "If your implementation is correct, you should see a very low `cost` value in the model we train below\n",
    "\n",
    "(A good `cost` value for this problem would be anything less than 1, but the lower the better!)"
   ]
  },
  {
   "cell_type": "code",
   "execution_count": 13,
   "metadata": {},
   "outputs": [
    {
     "name": "stdout",
     "output_type": "stream",
     "text": [
      "Calculated values for slopes and intercept: [-0.0537, -0.05, -0.0072, 0.0452]\n",
      "Cost for these values of theta: 0.0436417018617489\n"
     ]
    }
   ],
   "source": [
    "# run this cell to get your thetas and check the cost value\n",
    "calculated_thetas = linear_grad_descent(lin_reg_x, lin_reg_y, lin_thetas, learning_rate, m, num_iterations)\n",
    "calculated_cost = lin_reg_cost(lin_reg_x @ calculated_thetas, lin_reg_y, m)\n",
    "print(\"Calculated values for slopes and intercept: [{0}, {1}, {2}, {3}]\".format(np.round(calculated_thetas[0][0], 4), np.round(calculated_thetas[1][0], 4), np.round(calculated_thetas[2][0], 4), np.round(calculated_thetas[3][0], 4)))\n",
    "print(\"Cost for these values of theta: {0}\".format(calculated_cost))"
   ]
  },
  {
   "cell_type": "markdown",
   "metadata": {},
   "source": [
    "Let's check your values against our data set!"
   ]
  },
  {
   "cell_type": "code",
   "execution_count": 14,
   "metadata": {},
   "outputs": [
    {
     "data": {
      "text/plain": [
       "<matplotlib.legend.Legend at 0x182953f3668>"
      ]
     },
     "execution_count": 14,
     "metadata": {},
     "output_type": "execute_result"
    },
    {
     "data": {
      "image/png": "[encoded data removed]",
      "text/plain": [
       "<Figure size 720x432 with 1 Axes>"
      ]
     },
     "metadata": {
      "needs_background": "light"
     },
     "output_type": "display_data"
    }
   ],
   "source": [
    "# get your predicted x and y values\n",
    "graph_x = np.linspace(-5, 5, 100)\n",
    "graph_y = calculated_thetas[3][0] * np.power(graph_x, 3) + calculated_thetas[2][0] * np.square(graph_x) + calculated_thetas[1][0] * graph_x + calculated_thetas[0][0]\n",
    "\n",
    "# graph the values\n",
    "fig = plt.gcf()\n",
    "fig.set_size_inches(10, 6)\n",
    "plt.plot(random_x, random_y, 'ro', label = \"Actual Data\")\n",
    "plt.plot(graph_x, graph_y, label = \"Fitted Model\")\n",
    "plt.xlabel(\"x\", fontsize = 16)\n",
    "plt.ylabel(\"y\", fontsize = 16)\n",
    "plt.title(\"Fitted Model on Sample Data\", fontsize = 20)\n",
    "plt.text(2, -4, \"Cost: {0}\".format(round(calculated_cost, 6)), fontsize = 18)\n",
    "plt.legend()"
   ]
  },
  {
   "cell_type": "markdown",
   "metadata": {},
   "source": [
    "Hopefully your data fits this model decently well. If it does, congratulations! You just wrote your first natural language processing model!"
   ]
  }
 ],
 "metadata": {
  "kernelspec": {
   "display_name": "Python 3",
   "language": "python",
   "name": "python3"
  },
  "language_info": {
   "codemirror_mode": {
    "name": "ipython",
    "version": 3
   },
   "file_extension": ".py",
   "mimetype": "text/x-python",
   "name": "python",
   "nbconvert_exporter": "python",
   "pygments_lexer": "ipython3",
   "version": "3.7.3"
  }
 },
 "nbformat": 4,
 "nbformat_minor": 2
}
