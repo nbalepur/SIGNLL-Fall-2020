{
 "cells": [
  {
   "cell_type": "markdown",
   "metadata": {},
   "source": [
    "# 10/26 Notebook - Text Summarization\n",
    "\n",
    "Hi everyone! This week, we'll be taking a look at `text summarization`, basically how we can use technology to extract important information from a long piece of text. We'll also take a look at `web scraping` to extract any Wikipedia article, a useful technique you can use for a lot of your personal projects!"
   ]
  },
  {
   "cell_type": "markdown",
   "metadata": {},
   "source": [
    "Objectives:\n",
    "- Learn the basics of web scraping\n",
    "- Become more familiar with `nltk` and `numpy` libraries\n",
    "- Create a program to summarize Wikipedia articles"
   ]
  },
  {
   "cell_type": "markdown",
   "metadata": {},
   "source": [
    "To finish this notebook, you'll have to compelete the following methods:\n",
    "1. `format_paragraphs()`\n",
    "2. `build_freq_dict()`\n",
    "3. `build_ratio_dict()`\n",
    "4. `calc_sentence_weight()`\n",
    "5. `create_sentence_weights()`"
   ]
  },
  {
   "cell_type": "markdown",
   "metadata": {},
   "source": [
    "## Part 1: Web Scraping and Cleaning Our Data\n",
    "\n",
    "Since we're not using a predefined data set, we're going to need to make our own!"
   ]
  },
  {
   "cell_type": "markdown",
   "metadata": {},
   "source": [
    "We'll start by installing `BeautifulSoup4`, a library commonly used for formatting and web scraping in Python"
   ]
  },
  {
   "cell_type": "code",
   "execution_count": 1,
   "metadata": {},
   "outputs": [
    {
     "name": "stdout",
     "output_type": "stream",
     "text": [
      "Note: you may need to restart the kernel to use updated packages.\n"
     ]
    }
   ],
   "source": [
    "pip install beautifulsoup4 -q"
   ]
  },
  {
   "cell_type": "markdown",
   "metadata": {},
   "source": [
    "Now let's import our needed libraries for scraping the Wikipedia article"
   ]
  },
  {
   "cell_type": "code",
   "execution_count": 2,
   "metadata": {},
   "outputs": [],
   "source": [
    "import bs4 as bs\n",
    "import urllib.request\n",
    "import re"
   ]
  },
  {
   "cell_type": "markdown",
   "metadata": {},
   "source": [
    "The method below will do all of the web scraping. It takes in a single parameter, `wiki_url`, the URL of the Wikipedia article, which you'll be able to change in the next cell. We first use `urllib` to open the HTML of the webpage, and then use `Beautiful Soup` to parse the data"
   ]
  },
  {
   "cell_type": "code",
   "execution_count": 3,
   "metadata": {},
   "outputs": [],
   "source": [
    "def get_data(wiki_url):\n",
    "    # sends a urlopen request to the wikipedia article and reads the html\n",
    "    scraped_data = urllib.request.urlopen(wiki_url)\n",
    "    article = scraped_data.read()\n",
    "\n",
    "    # gets all of the HTML paragraphs from the Wikipedia article\n",
    "    return bs.BeautifulSoup(article, \"lxml\").find_all(\"p\")"
   ]
  },
  {
   "cell_type": "code",
   "execution_count": 4,
   "metadata": {},
   "outputs": [],
   "source": [
    "# feel free to change the URL!\n",
    "wiki_url = \"https://en.wikipedia.org/wiki/Natural_language_processing\"\n",
    "wiki_paragraphs = get_data(wiki_url)"
   ]
  },
  {
   "cell_type": "markdown",
   "metadata": {},
   "source": [
    "Complete the method `format_paragraphs()` below. Most of the method is filled out for you, but you need to loops through each paragraph in `paragraphs`, and append its `.text` value to `text`"
   ]
  },
  {
   "cell_type": "markdown",
   "metadata": {},
   "source": [
    "<details>    \n",
    "<summary>\n",
    "    <font size=\"3\" color=\"darkgreen\"><b>Hints</b></font>\n",
    "</summary>\n",
    "<p>\n",
    "<ul>\n",
    "    <li>Loop through each paragraph by writing <code>for paragraph in paragraphs</code></li>\n",
    "    <li>Append to <code>text</code> by adding the value of <code>paragraph.text</code></li>\n",
    "</ul>\n",
    "    <details>    \n",
    "<summary>\n",
    "    <font size=\"3\" color=\"darkgreen\"><b>Solution</b></font>\n",
    "</summary>\n",
    "<p>\n",
    "<ul>\n",
    "    <code>def format_paragraphs(paragraphs):\n",
    "    text = \"\"\n",
    "    # append all the paragraphs\n",
    "    for paragraph in paragraphs:\n",
    "        text += paragraph.text\n",
    "    # return the cleaned text\n",
    "    return clean_text(text)</code>\n",
    "</ul>\n",
    "</p>\n",
    "</p>"
   ]
  },
  {
   "cell_type": "code",
   "execution_count": 5,
   "metadata": {},
   "outputs": [],
   "source": [
    "def format_paragraphs(paragraphs):\n",
    "    text = \"\"\n",
    "    # append all the paragraphs\n",
    "    for paragraph in paragraphs:\n",
    "        text += paragraph.text\n",
    "    \n",
    "    # return the cleaned text\n",
    "    return clean_text(text)"
   ]
  },
  {
   "cell_type": "code",
   "execution_count": 6,
   "metadata": {},
   "outputs": [],
   "source": [
    "def clean_text(text):\n",
    "    # get rid of useless characters (references and extra spaces)\n",
    "    text = re.sub(r'\\[[0-9]*\\]', ' ', text)\n",
    "    text = re.sub(r'\\s+', ' ', text)\n",
    "    \n",
    "    # return cleaned text\n",
    "    return text"
   ]
  },
  {
   "cell_type": "code",
   "execution_count": 7,
   "metadata": {},
   "outputs": [],
   "source": [
    "# run this cell to get the formatted article! (print it if you like)\n",
    "wiki_article = format_paragraphs(wiki_paragraphs)"
   ]
  },
  {
   "cell_type": "markdown",
   "metadata": {},
   "source": [
    "## Part 2: Creating a Model\n",
    "\n",
    "The second step in our pipeline is create the model for this project, a table of weighted frequencies"
   ]
  },
  {
   "cell_type": "markdown",
   "metadata": {},
   "source": [
    "We'll be using `nltk`, the natural language toolkit library, to tokenize our text throughout this project"
   ]
  },
  {
   "cell_type": "code",
   "execution_count": 8,
   "metadata": {},
   "outputs": [
    {
     "name": "stdout",
     "output_type": "stream",
     "text": [
      "Note: you may need to restart the kernel to use updated packages.\n"
     ]
    }
   ],
   "source": [
    "pip install nltk -q"
   ]
  },
  {
   "cell_type": "markdown",
   "metadata": {},
   "source": [
    "Now we'll import the needed libraries"
   ]
  },
  {
   "cell_type": "code",
   "execution_count": 9,
   "metadata": {},
   "outputs": [],
   "source": [
    "import nltk\n",
    "from nltk.tokenize import RegexpTokenizer\n",
    "import numpy as np\n",
    "import pandas as pd"
   ]
  },
  {
   "cell_type": "markdown",
   "metadata": {},
   "source": [
    "Before we begin tokenizing, let's store our `stopwords`. If you're feeling **spicy** you can switch the language to something else and find a wikipedia article in a different language"
   ]
  },
  {
   "cell_type": "code",
   "execution_count": 10,
   "metadata": {},
   "outputs": [],
   "source": [
    "stopwords = nltk.corpus.stopwords.words(\"english\")"
   ]
  },
  {
   "cell_type": "markdown",
   "metadata": {},
   "source": [
    "Complete the method `build_freq_dict()`, which does the following:\n",
    "1. Tokenizes the words of the articles using `tokenizer.tokenize()`. You can read more about the method [here](https://docs.python.org/3/library/tokenize.html)\n",
    "2. Finds the appropriate `frequency` if it's in the `freqs` dictionary, or 0 if it's not in the `freqs` dictionary\n",
    "3. Increments `frequency` by 1\n",
    "4. Updates `freqs` with the new `frequency`"
   ]
  },
  {
   "cell_type": "markdown",
   "metadata": {},
   "source": [
    "<details>    \n",
    "<summary>\n",
    "    <font size=\"3\" color=\"darkgreen\"><b>Hint for Step 1</b></font>\n",
    "</summary>\n",
    "<p>\n",
    "<ul>\n",
    "    <li>This can be done by setting <code>tokenized_words</code> equal to <code>tokenizer.tokenize(article)</code></li>\n",
    "</ul>\n",
    "</p>"
   ]
  },
  {
   "cell_type": "markdown",
   "metadata": {},
   "source": [
    "<details>    \n",
    "<summary>\n",
    "    <font size=\"3\" color=\"darkgreen\"><b>Hints for Step 2</b></font>\n",
    "</summary>\n",
    "<p>\n",
    "<ul>\n",
    "    <li>You can use the dictionary <code>get()</code> function using the <code>default</code> parameter. The documentation can be found <a href = \"https://www.tutorialspoint.com/python/dictionary_get.htm\">here</a>.</li>\n",
    "    <li>Call <code>freqs.get()</code> with parameters <code>word</code> and <code>0</code></li>\n",
    "</ul>\n",
    "</p>"
   ]
  },
  {
   "cell_type": "markdown",
   "metadata": {},
   "source": [
    "<details>    \n",
    "<summary>\n",
    "    <font size=\"3\" color=\"darkgreen\"><b>Hint for Step 3</b></font>\n",
    "</summary>\n",
    "<p>\n",
    "<ul>\n",
    "    <li><code>frequency</code> can be incremented with the <code>+=</code> oeprator</li>\n",
    "</ul>\n",
    "</p>"
   ]
  },
  {
   "cell_type": "markdown",
   "metadata": {},
   "source": [
    "<details>    \n",
    "<summary>\n",
    "    <font size=\"3\" color=\"darkgreen\"><b>Hint for Step 4</b></font>\n",
    "</summary>\n",
    "<p>\n",
    "<ul>\n",
    "    <li>The <code>frequency</code> can be updated by writing <code>freqs[word] = frequency</code></li>\n",
    "</ul>\n",
    "</p>"
   ]
  },
  {
   "cell_type": "code",
   "execution_count": 11,
   "metadata": {},
   "outputs": [],
   "source": [
    "def build_freq_dict(article):\n",
    "    # initialize the dictionary\n",
    "    freqs = dict()\n",
    "    \n",
    "    # tokenizes the words\n",
    "    article = article.lower()\n",
    "    tokenizer = RegexpTokenizer(r'\\w+')\n",
    "    tokenized_words = tokenizer.tokenize(article)\n",
    "    \n",
    "    # iterates through each token\n",
    "    for word in tokenized_words:\n",
    "        # skips stopwords\n",
    "        if word in stopwords:\n",
    "            continue\n",
    "        \n",
    "        # gets the frequency\n",
    "        frequency = freqs.get(word, 0)\n",
    "        # increments the frequency by 1\n",
    "        frequency += 1\n",
    "        # updates the frequency\n",
    "        freqs[word] = frequency\n",
    "    \n",
    "    # return the dictionary\n",
    "    return freqs"
   ]
  },
  {
   "cell_type": "code",
   "execution_count": 12,
   "metadata": {},
   "outputs": [
    {
     "name": "stdout",
     "output_type": "stream",
     "text": [
      "Zoo Wee Mama!\n"
     ]
    }
   ],
   "source": [
    "# run this cell to test your method\n",
    "test_article = \"\"\"In the night, I hear them talk the coldest story ever told\n",
    "                Somewhere far along this road, he lost his soul\n",
    "                To a woman so heartless\n",
    "                How could you be so heartless\n",
    "                Oh, how could you be so heartless?\"\"\"\n",
    "\n",
    "test_dict = build_freq_dict(test_article)\n",
    "\n",
    "actual_dict = {'night': 1, 'hear': 1, 'talk': 1, 'coldest': 1, 'story': 1, 'ever': 1, 'told': 1,\n",
    "               'somewhere': 1, 'far': 1, 'along': 1, 'road': 1, 'lost': 1, 'soul': 1, 'woman': 1,\n",
    "               'heartless': 3, 'could': 2, 'oh': 1}\n",
    "\n",
    "if (test_dict != actual_dict):\n",
    "    print(\"Sorry homeboy/homegirl\")\n",
    "else:\n",
    "    print(\"Zoo Wee Mama!\")"
   ]
  },
  {
   "cell_type": "markdown",
   "metadata": {},
   "source": [
    "If you passed the test case above, you can run the cell below to store the frequency dictionary"
   ]
  },
  {
   "cell_type": "code",
   "execution_count": 13,
   "metadata": {},
   "outputs": [],
   "source": [
    "freq_dict = build_freq_dict(wiki_article)"
   ]
  },
  {
   "cell_type": "markdown",
   "metadata": {},
   "source": [
    "Now that we have our frequency dictionary, we need to calculate the weighted frequency of occurrence\n",
    "\n",
    "We use the following formula to obtain the correct value:\n",
    "\n",
    "<img src=\"https://latex.codecogs.com/gif.latex?\\dpi{300}&space;ratio_i&space;=&space;\\frac{frequency_i}{max_{frequency}}\" title=\"ratio_i = \\frac{frequency_i}{max_{frequency}}\" />"
   ]
  },
  {
   "cell_type": "markdown",
   "metadata": {},
   "source": [
    "Complete the method `build_ratio_dict()`, which converts our dictionary of frequencies into a dictionary of occurence weights as follows:\n",
    "\n",
    "1. Set `frequencies` equal to a `numpy array` of the `values()` of `freqs`\n",
    "2. Finds the maximum frequency in `frequencies`\n",
    "3. Calculates `ratios` according to the formula above"
   ]
  },
  {
   "cell_type": "markdown",
   "metadata": {},
   "source": [
    "<details>    \n",
    "<summary>\n",
    "    <font size=\"3\" color=\"darkgreen\"><b>Hint for Step 1</b></font>\n",
    "</summary>\n",
    "<p>\n",
    "<ul>\n",
    "    <li>You're going to need to first cast the values to a <code>list</code>, and then a <code>numpy array</code></li>\n",
    "</ul>\n",
    "    <details>    \n",
    "<summary>\n",
    "    <font size=\"3\" color=\"darkgreen\"><b>Solution for Step 1</b></font>\n",
    "</summary>\n",
    "<p>\n",
    "<ul>\n",
    "    <code>frequencies = np.array(list(freqs.values()))</code>\n",
    "</ul>\n",
    "</p>\n",
    "</p>"
   ]
  },
  {
   "cell_type": "markdown",
   "metadata": {},
   "source": [
    "<details>    \n",
    "<summary>\n",
    "    <font size=\"3\" color=\"darkgreen\"><b>Hint for Step 2</b></font>\n",
    "</summary>\n",
    "<p>\n",
    "<ul>\n",
    "    <li>Use <code>max()</code> on <code>freqs.values()</code> to find the <code>max_frequency</code></li>\n",
    "</ul>  \n",
    "<p>\n",
    "</p>"
   ]
  },
  {
   "cell_type": "markdown",
   "metadata": {},
   "source": [
    "<details>    \n",
    "<summary>\n",
    "    <font size=\"3\" color=\"darkgreen\"><b>Hint for Step 3</b></font>\n",
    "</summary>\n",
    "<p>\n",
    "<ul>\n",
    "    <li>Use the formula above to calculate the ratio, replacing the numerator with <code>frequencies</code></li>\n",
    "</ul>  \n",
    "<p>\n",
    "</p>"
   ]
  },
  {
   "cell_type": "code",
   "execution_count": 14,
   "metadata": {},
   "outputs": [],
   "source": [
    "def build_ratio_dict(freqs):\n",
    "    # gets the frequencies\n",
    "    frequencies = np.array(list(freqs.values()))\n",
    "    # finds the maximum frequency\n",
    "    max_frequency = max(freqs.values())\n",
    "    # calculates the ratios\n",
    "    ratios = frequencies / max_frequency\n",
    "    \n",
    "    # returns the appropriate dictionary\n",
    "    return dict(zip(freqs.keys(), ratios))"
   ]
  },
  {
   "cell_type": "code",
   "execution_count": 15,
   "metadata": {},
   "outputs": [
    {
     "name": "stdout",
     "output_type": "stream",
     "text": [
      "aw yea B)\n"
     ]
    }
   ],
   "source": [
    "# run this cell to test your code\n",
    "test_ratio_dict = build_ratio_dict(test_dict)\n",
    "\n",
    "actual_dict =  {'night': 0.3333333333333333, 'hear': 0.3333333333333333, 'talk': 0.3333333333333333, \n",
    "                'coldest': 0.3333333333333333, 'story': 0.3333333333333333, 'ever': 0.3333333333333333, \n",
    "                'told': 0.3333333333333333, 'somewhere': 0.3333333333333333, 'far': 0.3333333333333333, \n",
    "                'along': 0.3333333333333333, 'road': 0.3333333333333333, 'lost': 0.3333333333333333, \n",
    "                'soul': 0.3333333333333333, 'woman': 0.3333333333333333, 'heartless': 1.0, \n",
    "                'could': 0.6666666666666666, 'oh': 0.3333333333333333}\n",
    "\n",
    "if (actual_dict != test_ratio_dict):\n",
    "    print(\"Awful, gross, yuck!\")\n",
    "else:\n",
    "    print(\"aw yea B)\")"
   ]
  },
  {
   "cell_type": "markdown",
   "metadata": {},
   "source": [
    "If your function is working, run the cell below to store your dictionary of weighted occurence ratios"
   ]
  },
  {
   "cell_type": "code",
   "execution_count": 16,
   "metadata": {},
   "outputs": [],
   "source": [
    "ratio_dict = build_ratio_dict(freq_dict)"
   ]
  },
  {
   "cell_type": "markdown",
   "metadata": {},
   "source": [
    "## Part 3: Calculating Sentence Scores"
   ]
  },
  {
   "cell_type": "markdown",
   "metadata": {},
   "source": [
    "Now that we have the weight of each word, we can find the weight of the entire sentences in the article. The sentences with a higher weight will be the best at summarizing our text!"
   ]
  },
  {
   "cell_type": "markdown",
   "metadata": {},
   "source": [
    "We'll start by taking our original article, tokenize it by sentences, and storing it in `wiki_sentences`"
   ]
  },
  {
   "cell_type": "code",
   "execution_count": 17,
   "metadata": {},
   "outputs": [],
   "source": [
    "wiki_sentences = nltk.sent_tokenize(wiki_article)"
   ]
  },
  {
   "cell_type": "markdown",
   "metadata": {},
   "source": [
    "We'll also initialize some constants to use for factoring in the length of the sentence"
   ]
  },
  {
   "cell_type": "code",
   "execution_count": 18,
   "metadata": {},
   "outputs": [],
   "source": [
    "length_limit = 40"
   ]
  },
  {
   "cell_type": "markdown",
   "metadata": {},
   "source": [
    "Complete the method `calc_sentence_weight()`, which calculates the sentence weight as follows:\n",
    "1. Set `tokenized_words` using the `tokenizer.tokenize()` library function\n",
    "2. Get the `weight` from `ratio_dict`. If the current `word` is not in the dictionary, set `weight` equal to 0\n",
    "3. Add the value of `weight` to `total_weight`\n",
    "\n",
    "*Note: At the end we factor in the total length of the sentence to prioritize shorter sentences*"
   ]
  },
  {
   "cell_type": "markdown",
   "metadata": {},
   "source": [
    "<details>    \n",
    "<summary>\n",
    "    <font size=\"3\" color=\"darkgreen\"><b>Hint for Step 1</b></font>\n",
    "</summary>\n",
    "<p>\n",
    "<ul>\n",
    "    <li>Use <code>tokenizer.tokenize()</code> with <code>sentence</code> as the parameter</li>\n",
    "</ul>\n",
    "<p>"
   ]
  },
  {
   "cell_type": "markdown",
   "metadata": {},
   "source": [
    "<details>    \n",
    "<summary>\n",
    "    <font size=\"3\" color=\"darkgreen\"><b>Hints for Step 2</b></font>\n",
    "</summary>\n",
    "<p>\n",
    "<ul>\n",
    "    <li>You can use the dictionary <code>get()</code> function using the <code>default</code> parameter. The documentation can be found <a href = \"https://www.tutorialspoint.com/python/dictionary_get.htm\">here</a>.</li>\n",
    "    <li>Call <code>freqs.get()</code> with parameters <code>word</code> and <code>0</code></li>\n",
    "</ul>\n",
    "</p>"
   ]
  },
  {
   "cell_type": "markdown",
   "metadata": {},
   "source": [
    "<details>    \n",
    "<summary>\n",
    "    <font size=\"3\" color=\"darkgreen\"><b>Hint for Step 3</b></font>\n",
    "</summary>\n",
    "<p>\n",
    "<ul>\n",
    "    <li>Use the <code>+=</code> operator with <code>weight</code> to increment the total weight</li>\n",
    "</ul>\n",
    "</p>"
   ]
  },
  {
   "cell_type": "code",
   "execution_count": 19,
   "metadata": {},
   "outputs": [],
   "source": [
    "def calc_sentence_weight(sentence, ratio_dict):\n",
    "    # intiializes the total weight to 0\n",
    "    total_weight = 0\n",
    "    \n",
    "    # tokenizes the words\n",
    "    tokenizer = RegexpTokenizer(r'\\w+')\n",
    "    sentence = sentence.lower()\n",
    "    tokenized_words = tokenizer.tokenize(sentence)\n",
    "    \n",
    "    # edge cases\n",
    "    if (len(tokenized_words) == 0 or len(tokenized_words) >= length_limit):\n",
    "        return 0\n",
    "    \n",
    "    # iterates through each token\n",
    "    for word in tokenized_words:\n",
    "        \n",
    "        # skips stopwords\n",
    "        if word in stopwords:\n",
    "            continue\n",
    "        \n",
    "        # finds the weight in the dictionary, 0 if it doesn't exist\n",
    "        weight = ratio_dict.get(word, 0)\n",
    "        # adds this value to the total weight\n",
    "        total_weight += weight\n",
    "    \n",
    "    # return the total weight\n",
    "    return total_weight"
   ]
  },
  {
   "cell_type": "code",
   "execution_count": 20,
   "metadata": {},
   "outputs": [
    {
     "name": "stdout",
     "output_type": "stream",
     "text": [
      "~:)\n"
     ]
    }
   ],
   "source": [
    "# run this cell to test your function\n",
    "test_sentence = \"In the night I hear them talk\"\n",
    "test_weight = calc_sentence_weight(test_sentence, test_ratio_dict)\n",
    "\n",
    "if (test_weight != 1):\n",
    "    print(\"Looks like something went wrong, Buster\")\n",
    "else:\n",
    "    print(\"~:)\")"
   ]
  },
  {
   "cell_type": "markdown",
   "metadata": {},
   "source": [
    "Now that our helper function is working, we can create a list of weights, one for each sentence in our Wikipedia article"
   ]
  },
  {
   "cell_type": "markdown",
   "metadata": {},
   "source": [
    "Complete the function `create_sentence_weights()`, which uses `calc_sentence_weight()` to make a list of sentence weights as follows:\n",
    "\n",
    "1. Iterates through each `sentence` in `sentences`\n",
    "2. Calculates the `weight` using `calc_sentence_weight()`\n",
    "3. Appends `weight` to the list of `weights` "
   ]
  },
  {
   "cell_type": "markdown",
   "metadata": {},
   "source": [
    "<details>    \n",
    "<summary>\n",
    "    <font size=\"3\" color=\"darkgreen\"><b>Hint for Step 1</b></font>\n",
    "</summary>\n",
    "<p>\n",
    "<ul>\n",
    "    <li>Iterate through each <code>sentence</code> with <code>for sentence in sentences:</code></li>\n",
    "</ul>\n",
    "<p>"
   ]
  },
  {
   "cell_type": "markdown",
   "metadata": {},
   "source": [
    "<details>    \n",
    "<summary>\n",
    "    <font size=\"3\" color=\"darkgreen\"><b>Hint for Step 2</b></font>\n",
    "</summary>\n",
    "<p>\n",
    "<ul>\n",
    "    <li>Call <code>calc_sentence_weight()</code> with <code>sentence</code> and <code>ratio_dict</code> as the parameters</li>\n",
    "</ul>\n",
    "<p>"
   ]
  },
  {
   "cell_type": "markdown",
   "metadata": {},
   "source": [
    "<details>    \n",
    "<summary>\n",
    "    <font size=\"3\" color=\"darkgreen\"><b>Hint for Step 3</b></font>\n",
    "</summary>\n",
    "<p>\n",
    "<ul>\n",
    "    <li>Use <code>.append()</code> on <code>weights</code> to add the <code>weight</code>. You can find the documentation <a href = \"https://www.w3schools.com/python/ref_list_append.asp\">here</a>.</li>\n",
    "</ul>\n",
    "<p>"
   ]
  },
  {
   "cell_type": "code",
   "execution_count": 21,
   "metadata": {},
   "outputs": [],
   "source": [
    "def create_sentence_weights(sentences, ratio_dict):\n",
    "    # initialize the list\n",
    "    weights = []\n",
    "    # iterate through each sentence\n",
    "    for sentence in sentences:\n",
    "        # calculate the weight and add it to the list\n",
    "        weight = calc_sentence_weight(sentence, ratio_dict)\n",
    "        weights.append(weight)\n",
    "    return weights"
   ]
  },
  {
   "cell_type": "code",
   "execution_count": 22,
   "metadata": {},
   "outputs": [
    {
     "name": "stdout",
     "output_type": "stream",
     "text": [
      "Hot diggity dog!\n"
     ]
    }
   ],
   "source": [
    "# run this cell to test your method\n",
    "test_sentences = [\"Because I'm heartless\", \"It's the coldest outside this night!\"]\n",
    "test_weights = create_sentence_weights(test_sentences, test_ratio_dict)\n",
    "\n",
    "if (test_weights != [1.0, 0.6666666666666666]):\n",
    "    print(\"Your method is kinda smelly rn ngl\")\n",
    "else:\n",
    "    print(\"Hot diggity dog!\")"
   ]
  },
  {
   "cell_type": "markdown",
   "metadata": {},
   "source": [
    "Now we can get a list of weights for our article!"
   ]
  },
  {
   "cell_type": "code",
   "execution_count": 23,
   "metadata": {},
   "outputs": [],
   "source": [
    "wiki_weights = create_sentence_weights(wiki_sentences, ratio_dict)"
   ]
  },
  {
   "cell_type": "markdown",
   "metadata": {},
   "source": [
    "## Part 4: Putting Together a Summary"
   ]
  },
  {
   "cell_type": "markdown",
   "metadata": {},
   "source": [
    "To put the summary together, we're going to grab the `num_sentences` highest sentence scores"
   ]
  },
  {
   "cell_type": "code",
   "execution_count": 24,
   "metadata": {},
   "outputs": [],
   "source": [
    "# intitialize our values\n",
    "num_sentences = 5\n",
    "wiki_weights = np.array(wiki_weights)\n",
    "wiki_sentences = np.array(wiki_sentences)\n",
    "# gets the \"num_sentences\" highest scores\n",
    "largest_weight_indexes = wiki_weights.argsort()[-num_sentences:][::-1]"
   ]
  },
  {
   "cell_type": "markdown",
   "metadata": {},
   "source": [
    "Now we'll concatenate all of these sentences to make a summary"
   ]
  },
  {
   "cell_type": "code",
   "execution_count": 25,
   "metadata": {},
   "outputs": [],
   "source": [
    "# sorts them \"chronologically\", so that it makes more sense\n",
    "largest_weight_indexes.sort()\n",
    "# retrieves the highest-scoring sentences\n",
    "summary_sentences = wiki_sentences[largest_weight_indexes]\n",
    "# joins the sentences\n",
    "summary = \" \".join(summary_sentences)"
   ]
  },
  {
   "cell_type": "markdown",
   "metadata": {},
   "source": [
    "Finally, we can print our summary!"
   ]
  },
  {
   "cell_type": "code",
   "execution_count": 26,
   "metadata": {},
   "outputs": [
    {
     "data": {
      "text/plain": [
       "'Natural language processing (NLP) is a subfield of linguistics, computer science, and artificial intelligence concerned with the interactions between computers and human language, in particular how to program computers to process and analyze large amounts of natural language data. Challenges in natural language processing frequently involve speech recognition, natural language understanding, and natural-language generation. Starting in the late 1980s, however, there was a revolution in natural language processing with the introduction of machine learning algorithms for language processing. Many different classes of machine-learning algorithms have been applied to natural-language-processing tasks. In some areas, this shift has entailed substantial changes in how NLP systems are designed, such that deep neural network-based approaches may be viewed as a new paradigm distinct from statistical natural language processing.'"
      ]
     },
     "execution_count": 26,
     "metadata": {},
     "output_type": "execute_result"
    }
   ],
   "source": [
    "summary"
   ]
  },
  {
   "cell_type": "markdown",
   "metadata": {},
   "source": [
    "Hopefully, the summary makes sense! More specifically, it should be a general overview of the wikipedia article that you chose. I have noticed that this model does struggle with celebrities, probably because the weights need to be adjusted specifically for the name of the celebrity. Either way, congratulations! You just created a program to summarize a large portion of text!"
   ]
  },
  {
   "cell_type": "markdown",
   "metadata": {},
   "source": [
    "## Part 5: Data Visualization (Optional)"
   ]
  },
  {
   "cell_type": "markdown",
   "metadata": {},
   "source": [
    "Now we'll do some simple visualizations to see the weight of our words in our text\n",
    "\n",
    "**Note: I will be dicussing the data in the Natural Language Processing Wikipedia page, which can be found [here](https://en.wikipedia.org/wiki/Natural_language_processing)**"
   ]
  },
  {
   "cell_type": "markdown",
   "metadata": {},
   "source": [
    "We'll start by installing and importing two libraries, `colored` and `colour`, used for color visualization"
   ]
  },
  {
   "cell_type": "code",
   "execution_count": 27,
   "metadata": {},
   "outputs": [
    {
     "name": "stdout",
     "output_type": "stream",
     "text": [
      "Note: you may need to restart the kernel to use updated packages.\n"
     ]
    }
   ],
   "source": [
    "pip install colored -q"
   ]
  },
  {
   "cell_type": "code",
   "execution_count": 28,
   "metadata": {},
   "outputs": [
    {
     "name": "stdout",
     "output_type": "stream",
     "text": [
      "Note: you may need to restart the kernel to use updated packages.\n"
     ]
    }
   ],
   "source": [
    "pip install colour -q"
   ]
  },
  {
   "cell_type": "code",
   "execution_count": 29,
   "metadata": {},
   "outputs": [],
   "source": [
    "import colored\n",
    "from colour import Color"
   ]
  },
  {
   "cell_type": "markdown",
   "metadata": {},
   "source": [
    "Next, we'll create a gradient of colors to represent the strength of our colors with the `colour` library"
   ]
  },
  {
   "cell_type": "code",
   "execution_count": 30,
   "metadata": {},
   "outputs": [],
   "source": [
    "red = Color(\"#f0584f\")\n",
    "white = Color(\"#f7e5e4\")\n",
    "gradient = list(white.range_to(red, 200))"
   ]
  },
  {
   "cell_type": "markdown",
   "metadata": {},
   "source": [
    "I've created a function, `make_colored_text()`, that will take in text and output a colored version of the text. Feel free to look more in depth into it to see how it works!"
   ]
  },
  {
   "cell_type": "code",
   "execution_count": 31,
   "metadata": {},
   "outputs": [],
   "source": [
    "def make_colored_text(text, gradient, weights):\n",
    "    # declare the tokenizer\n",
    "    tokenizer = RegexpTokenizer(r'\\w+')\n",
    "    \n",
    "    # create a list of words\n",
    "    words = text.split(\" \")\n",
    "    \n",
    "    # initialize our colored summary\n",
    "    colored_summary = colored.bg(gradient[0].hex)\n",
    "    \n",
    "    # iterate through each word\n",
    "    for word in words:\n",
    "        # tokenize/clean the word\n",
    "        word_formatted = tokenizer.tokenize(word.lower())\n",
    "        \n",
    "        # edge case\n",
    "        if (len(word_formatted) == 0):\n",
    "            continue\n",
    "            \n",
    "        # access appropriate word\n",
    "        word_formatted = tokenizer.tokenize(word.lower())[0]\n",
    "        \n",
    "        # grab the appropriate gradient index\n",
    "        gradient_index = int((len(gradient) - 1) * (weights.get(word_formatted, 0)))\n",
    "        \n",
    "        # color the word and append it to the summary using our libraries\n",
    "        colored_word = colored.bg(gradient[gradient_index].hex) + word\n",
    "        colored_summary += colored_word + colored.bg(gradient[0].hex) + \" \"\n",
    "    \n",
    "    # return the coloerd summary\n",
    "    return colored_summary"
   ]
  },
  {
   "cell_type": "markdown",
   "metadata": {},
   "source": [
    "Let's try and visualize our entire article"
   ]
  },
  {
   "cell_type": "code",
   "execution_count": 32,
   "metadata": {
    "scrolled": true
   },
   "outputs": [
    {
     "name": "stdout",
     "output_type": "stream",
     "text": [
      "\u001b[48;5;255m\u001b[48;5;210mNatural\u001b[48;5;255m \u001b[48;5;203mlanguage\u001b[48;5;255m \u001b[48;5;210mprocessing\u001b[48;5;255m \u001b[48;5;217m(NLP)\u001b[48;5;255m \u001b[48;5;255mis\u001b[48;5;255m \u001b[48;5;255ma\u001b[48;5;255m \u001b[48;5;224msubfield\u001b[48;5;255m \u001b[48;5;255mof\u001b[48;5;255m \u001b[48;5;223mlinguistics,\u001b[48;5;255m \u001b[48;5;224mcomputer\u001b[48;5;255m \u001b[48;5;224mscience,\u001b[48;5;255m \u001b[48;5;255mand\u001b[48;5;255m \u001b[48;5;224martificial\u001b[48;5;255m \u001b[48;5;224mintelligence\u001b[48;5;255m \u001b[48;5;224mconcerned\u001b[48;5;255m \u001b[48;5;255mwith\u001b[48;5;255m \u001b[48;5;255mthe\u001b[48;5;255m \u001b[48;5;224minteractions\u001b[48;5;255m \u001b[48;5;255mbetween\u001b[48;5;255m \u001b[48;5;224mcomputers\u001b[48;5;255m \u001b[48;5;255mand\u001b[48;5;255m \u001b[48;5;224mhuman\u001b[48;5;255m \u001b[48;5;203mlanguage,\u001b[48;5;255m \u001b[48;5;255min\u001b[48;5;255m \u001b[48;5;224mparticular\u001b[48;5;255m \u001b[48;5;255mhow\u001b[48;5;255m \u001b[48;5;255mto\u001b[48;5;255m \u001b[48;5;224mprogram\u001b[48;5;255m \u001b[48;5;224mcomputers\u001b[48;5;255m \u001b[48;5;255mto\u001b[48;5;255m \u001b[48;5;224mprocess\u001b[48;5;255m \u001b[48;5;255mand\u001b[48;5;255m \u001b[48;5;224manalyze\u001b[48;5;255m \u001b[48;5;224mlarge\u001b[48;5;255m \u001b[48;5;224mamounts\u001b[48;5;255m \u001b[48;5;255mof\u001b[48;5;255m \u001b[48;5;210mnatural\u001b[48;5;255m \u001b[48;5;203mlanguage\u001b[48;5;255m \u001b[48;5;224mdata.\u001b[48;5;255m \u001b[48;5;224mChallenges\u001b[48;5;255m \u001b[48;5;255min\u001b[48;5;255m \u001b[48;5;210mnatural\u001b[48;5;255m \u001b[48;5;203mlanguage\u001b[48;5;255m \u001b[48;5;210mprocessing\u001b[48;5;255m \u001b[48;5;224mfrequently\u001b[48;5;255m \u001b[48;5;224minvolve\u001b[48;5;255m \u001b[48;5;224mspeech\u001b[48;5;255m \u001b[48;5;224mrecognition,\u001b[48;5;255m \u001b[48;5;210mnatural\u001b[48;5;255m \u001b[48;5;203mlanguage\u001b[48;5;255m \u001b[48;5;224munderstanding,\u001b[48;5;255m \u001b[48;5;255mand\u001b[48;5;255m \u001b[48;5;210mnatural-language\u001b[48;5;255m \u001b[48;5;224mgeneration.\u001b[48;5;255m \u001b[48;5;210mNatural\u001b[48;5;255m \u001b[48;5;203mlanguage\u001b[48;5;255m \u001b[48;5;210mprocessing\u001b[48;5;255m \u001b[48;5;255mhas\u001b[48;5;255m \u001b[48;5;255mits\u001b[48;5;255m \u001b[48;5;224mroots\u001b[48;5;255m \u001b[48;5;255min\u001b[48;5;255m \u001b[48;5;255mthe\u001b[48;5;255m \u001b[48;5;224m1950s.\u001b[48;5;255m \u001b[48;5;224mAlready\u001b[48;5;255m \u001b[48;5;255min\u001b[48;5;255m \u001b[48;5;224m1950,\u001b[48;5;255m \u001b[48;5;224mAlan\u001b[48;5;255m \u001b[48;5;224mTuring\u001b[48;5;255m \u001b[48;5;224mpublished\u001b[48;5;255m \u001b[48;5;255man\u001b[48;5;255m \u001b[48;5;224marticle\u001b[48;5;255m \u001b[48;5;224mtitled\u001b[48;5;255m \u001b[48;5;224m\"Computing\u001b[48;5;255m \u001b[48;5;224mMachinery\u001b[48;5;255m \u001b[48;5;255mand\u001b[48;5;255m \u001b[48;5;224mIntelligence\"\u001b[48;5;255m \u001b[48;5;255mwhich\u001b[48;5;255m \u001b[48;5;224mproposed\u001b[48;5;255m \u001b[48;5;255mwhat\u001b[48;5;255m \u001b[48;5;255mis\u001b[48;5;255m \u001b[48;5;255mnow\u001b[48;5;255m \u001b[48;5;224mcalled\u001b[48;5;255m \u001b[48;5;255mthe\u001b[48;5;255m \u001b[48;5;224mTuring\u001b[48;5;255m \u001b[48;5;224mtest\u001b[48;5;255m \u001b[48;5;255mas\u001b[48;5;255m \u001b[48;5;255ma\u001b[48;5;255m \u001b[48;5;224mcriterion\u001b[48;5;255m \u001b[48;5;255mof\u001b[48;5;255m \u001b[48;5;224mintelligence,\u001b[48;5;255m \u001b[48;5;255ma\u001b[48;5;255m \u001b[48;5;224mtask\u001b[48;5;255m \u001b[48;5;255mthat\u001b[48;5;255m \u001b[48;5;224minvolves\u001b[48;5;255m \u001b[48;5;255mthe\u001b[48;5;255m \u001b[48;5;224mautomated\u001b[48;5;255m \u001b[48;5;224minterpretation\u001b[48;5;255m \u001b[48;5;255mand\u001b[48;5;255m \u001b[48;5;224mgeneration\u001b[48;5;255m \u001b[48;5;255mof\u001b[48;5;255m \u001b[48;5;210mnatural\u001b[48;5;255m \u001b[48;5;203mlanguage,\u001b[48;5;255m \u001b[48;5;255mbut\u001b[48;5;255m \u001b[48;5;255mat\u001b[48;5;255m \u001b[48;5;255mthe\u001b[48;5;255m \u001b[48;5;224mtime\u001b[48;5;255m \u001b[48;5;255mnot\u001b[48;5;255m \u001b[48;5;224marticulated\u001b[48;5;255m \u001b[48;5;255mas\u001b[48;5;255m \u001b[48;5;255ma\u001b[48;5;255m \u001b[48;5;224mproblem\u001b[48;5;255m \u001b[48;5;224mseparate\u001b[48;5;255m \u001b[48;5;255mfrom\u001b[48;5;255m \u001b[48;5;224martificial\u001b[48;5;255m \u001b[48;5;224mintelligence.\u001b[48;5;255m \u001b[48;5;255mThe\u001b[48;5;255m \u001b[48;5;224mpremise\u001b[48;5;255m \u001b[48;5;255mof\u001b[48;5;255m \u001b[48;5;224msymbolic\u001b[48;5;255m \u001b[48;5;217mNLP\u001b[48;5;255m \u001b[48;5;255mis\u001b[48;5;255m \u001b[48;5;224mwell-summarized\u001b[48;5;255m \u001b[48;5;255mby\u001b[48;5;255m \u001b[48;5;224mJohn\u001b[48;5;255m \u001b[48;5;224mSearle's\u001b[48;5;255m \u001b[48;5;224mChinese\u001b[48;5;255m \u001b[48;5;224mroom\u001b[48;5;255m \u001b[48;5;224mexperiment:\u001b[48;5;255m \u001b[48;5;224mGiven\u001b[48;5;255m \u001b[48;5;255ma\u001b[48;5;255m \u001b[48;5;224mcollection\u001b[48;5;255m \u001b[48;5;255mof\u001b[48;5;255m \u001b[48;5;217mrules\u001b[48;5;255m \u001b[48;5;224m(e.g.,\u001b[48;5;255m \u001b[48;5;255ma\u001b[48;5;255m \u001b[48;5;224mChinese\u001b[48;5;255m \u001b[48;5;224mphrasebook,\u001b[48;5;255m \u001b[48;5;255mwith\u001b[48;5;255m \u001b[48;5;224mquestions\u001b[48;5;255m \u001b[48;5;255mand\u001b[48;5;255m \u001b[48;5;224mmatching\u001b[48;5;255m \u001b[48;5;224manswers),\u001b[48;5;255m \u001b[48;5;255mthe\u001b[48;5;255m \u001b[48;5;224mcomputer\u001b[48;5;255m \u001b[48;5;224memulates\u001b[48;5;255m \u001b[48;5;210mnatural\u001b[48;5;255m \u001b[48;5;203mlanguage\u001b[48;5;255m \u001b[48;5;224munderstanding\u001b[48;5;255m \u001b[48;5;255m(or\u001b[48;5;255m \u001b[48;5;255mother\u001b[48;5;255m \u001b[48;5;217mNLP\u001b[48;5;255m \u001b[48;5;217mtasks)\u001b[48;5;255m \u001b[48;5;255mby\u001b[48;5;255m \u001b[48;5;224mapplying\u001b[48;5;255m \u001b[48;5;255mthose\u001b[48;5;255m \u001b[48;5;217mrules\u001b[48;5;255m \u001b[48;5;255mto\u001b[48;5;255m \u001b[48;5;255mthe\u001b[48;5;255m \u001b[48;5;224mdata\u001b[48;5;255m \u001b[48;5;255mit\u001b[48;5;255m \u001b[48;5;255mis\u001b[48;5;255m \u001b[48;5;224mconfronted\u001b[48;5;255m \u001b[48;5;255mwith.\u001b[48;5;255m \u001b[48;5;255mUp\u001b[48;5;255m \u001b[48;5;255mto\u001b[48;5;255m \u001b[48;5;255mthe\u001b[48;5;255m \u001b[48;5;224m1980s,\u001b[48;5;255m \u001b[48;5;255mmost\u001b[48;5;255m \u001b[48;5;210mnatural\u001b[48;5;255m \u001b[48;5;203mlanguage\u001b[48;5;255m \u001b[48;5;210mprocessing\u001b[48;5;255m \u001b[48;5;224msystems\u001b[48;5;255m \u001b[48;5;255mwere\u001b[48;5;255m \u001b[48;5;217mbased\u001b[48;5;255m \u001b[48;5;255mon\u001b[48;5;255m \u001b[48;5;224mcomplex\u001b[48;5;255m \u001b[48;5;224msets\u001b[48;5;255m \u001b[48;5;255mof\u001b[48;5;255m \u001b[48;5;224mhand-written\u001b[48;5;255m \u001b[48;5;217mrules.\u001b[48;5;255m \u001b[48;5;224mStarting\u001b[48;5;255m \u001b[48;5;255min\u001b[48;5;255m \u001b[48;5;255mthe\u001b[48;5;255m \u001b[48;5;224mlate\u001b[48;5;255m \u001b[48;5;224m1980s,\u001b[48;5;255m \u001b[48;5;224mhowever,\u001b[48;5;255m \u001b[48;5;255mthere\u001b[48;5;255m \u001b[48;5;255mwas\u001b[48;5;255m \u001b[48;5;255ma\u001b[48;5;255m \u001b[48;5;224mrevolution\u001b[48;5;255m \u001b[48;5;255min\u001b[48;5;255m \u001b[48;5;210mnatural\u001b[48;5;255m \u001b[48;5;203mlanguage\u001b[48;5;255m \u001b[48;5;210mprocessing\u001b[48;5;255m \u001b[48;5;255mwith\u001b[48;5;255m \u001b[48;5;255mthe\u001b[48;5;255m \u001b[48;5;224mintroduction\u001b[48;5;255m \u001b[48;5;255mof\u001b[48;5;255m \u001b[48;5;217mmachine\u001b[48;5;255m \u001b[48;5;217mlearning\u001b[48;5;255m \u001b[48;5;217malgorithms\u001b[48;5;255m \u001b[48;5;255mfor\u001b[48;5;255m \u001b[48;5;203mlanguage\u001b[48;5;255m \u001b[48;5;210mprocessing.\u001b[48;5;255m \u001b[48;5;255mThis\u001b[48;5;255m \u001b[48;5;255mwas\u001b[48;5;255m \u001b[48;5;224mdue\u001b[48;5;255m \u001b[48;5;255mto\u001b[48;5;255m \u001b[48;5;255mboth\u001b[48;5;255m \u001b[48;5;255mthe\u001b[48;5;255m \u001b[48;5;224msteady\u001b[48;5;255m \u001b[48;5;224mincrease\u001b[48;5;255m \u001b[48;5;255min\u001b[48;5;255m \u001b[48;5;224mcomputational\u001b[48;5;255m \u001b[48;5;224mpower\u001b[48;5;255m \u001b[48;5;224m(see\u001b[48;5;255m \u001b[48;5;224mMoore's\u001b[48;5;255m \u001b[48;5;224mlaw)\u001b[48;5;255m \u001b[48;5;255mand\u001b[48;5;255m \u001b[48;5;255mthe\u001b[48;5;255m \u001b[48;5;224mgradual\u001b[48;5;255m \u001b[48;5;224mlessening\u001b[48;5;255m \u001b[48;5;255mof\u001b[48;5;255m \u001b[48;5;255mthe\u001b[48;5;255m \u001b[48;5;224mdominance\u001b[48;5;255m \u001b[48;5;255mof\u001b[48;5;255m \u001b[48;5;224mChomskyan\u001b[48;5;255m \u001b[48;5;224mtheories\u001b[48;5;255m \u001b[48;5;255mof\u001b[48;5;255m \u001b[48;5;223mlinguistics\u001b[48;5;255m \u001b[48;5;224m(e.g.\u001b[48;5;255m \u001b[48;5;224mtransformational\u001b[48;5;255m \u001b[48;5;224mgrammar),\u001b[48;5;255m \u001b[48;5;224mwhose\u001b[48;5;255m \u001b[48;5;224mtheoretical\u001b[48;5;255m \u001b[48;5;224munderpinnings\u001b[48;5;255m \u001b[48;5;224mdiscouraged\u001b[48;5;255m \u001b[48;5;255mthe\u001b[48;5;255m \u001b[48;5;224msort\u001b[48;5;255m \u001b[48;5;255mof\u001b[48;5;255m \u001b[48;5;224mcorpus\u001b[48;5;255m \u001b[48;5;223mlinguistics\u001b[48;5;255m \u001b[48;5;255mthat\u001b[48;5;255m \u001b[48;5;224munderlies\u001b[48;5;255m \u001b[48;5;255mthe\u001b[48;5;255m \u001b[48;5;217mmachine-learning\u001b[48;5;255m \u001b[48;5;224mapproach\u001b[48;5;255m \u001b[48;5;255mto\u001b[48;5;255m \u001b[48;5;203mlanguage\u001b[48;5;255m \u001b[48;5;210mprocessing.\u001b[48;5;255m \u001b[48;5;255mIn\u001b[48;5;255m \u001b[48;5;255mthe\u001b[48;5;255m \u001b[48;5;224m2010s,\u001b[48;5;255m \u001b[48;5;224mrepresentation\u001b[48;5;255m \u001b[48;5;217mlearning\u001b[48;5;255m \u001b[48;5;255mand\u001b[48;5;255m \u001b[48;5;224mdeep\u001b[48;5;255m \u001b[48;5;224mneural\u001b[48;5;255m \u001b[48;5;224mnetwork-style\u001b[48;5;255m \u001b[48;5;217mmachine\u001b[48;5;255m \u001b[48;5;217mlearning\u001b[48;5;255m \u001b[48;5;224mmethods\u001b[48;5;255m \u001b[48;5;224mbecame\u001b[48;5;255m \u001b[48;5;224mwidespread\u001b[48;5;255m \u001b[48;5;255min\u001b[48;5;255m \u001b[48;5;210mnatural\u001b[48;5;255m \u001b[48;5;203mlanguage\u001b[48;5;255m \u001b[48;5;210mprocessing,\u001b[48;5;255m \u001b[48;5;224mdue\u001b[48;5;255m \u001b[48;5;255min\u001b[48;5;255m \u001b[48;5;224mpart\u001b[48;5;255m \u001b[48;5;255mto\u001b[48;5;255m \u001b[48;5;255ma\u001b[48;5;255m \u001b[48;5;224mflurry\u001b[48;5;255m \u001b[48;5;255mof\u001b[48;5;255m \u001b[48;5;224mresults\u001b[48;5;255m \u001b[48;5;224mshowing\u001b[48;5;255m \u001b[48;5;255mthat\u001b[48;5;255m \u001b[48;5;255msuch\u001b[48;5;255m \u001b[48;5;224mtechniques\u001b[48;5;255m \u001b[48;5;255mcan\u001b[48;5;255m \u001b[48;5;224machieve\u001b[48;5;255m \u001b[48;5;224mstate-of-the-art\u001b[48;5;255m \u001b[48;5;224mresults\u001b[48;5;255m \u001b[48;5;255min\u001b[48;5;255m \u001b[48;5;223mmany\u001b[48;5;255m \u001b[48;5;210mnatural\u001b[48;5;255m \u001b[48;5;203mlanguage\u001b[48;5;255m \u001b[48;5;217mtasks,\u001b[48;5;255m \u001b[48;5;255mfor\u001b[48;5;255m \u001b[48;5;224mexample\u001b[48;5;255m \u001b[48;5;255min\u001b[48;5;255m \u001b[48;5;203mlanguage\u001b[48;5;255m \u001b[48;5;224mmodeling,\u001b[48;5;255m \u001b[48;5;224mparsing,\u001b[48;5;255m \u001b[48;5;255mand\u001b[48;5;255m \u001b[48;5;223mmany\u001b[48;5;255m \u001b[48;5;224mothers.\u001b[48;5;255m \u001b[48;5;255mIn\u001b[48;5;255m \u001b[48;5;255mthe\u001b[48;5;255m \u001b[48;5;224mearly\u001b[48;5;255m \u001b[48;5;224mdays,\u001b[48;5;255m \u001b[48;5;223mmany\u001b[48;5;255m \u001b[48;5;203mlanguage-processing\u001b[48;5;255m \u001b[48;5;224msystems\u001b[48;5;255m \u001b[48;5;255mwere\u001b[48;5;255m \u001b[48;5;224mdesigned\u001b[48;5;255m \u001b[48;5;255mby\u001b[48;5;255m \u001b[48;5;224msymbolic\u001b[48;5;255m \u001b[48;5;224mmethods,\u001b[48;5;255m \u001b[48;5;255mi.e.,\u001b[48;5;255m \u001b[48;5;255mthe\u001b[48;5;255m \u001b[48;5;224mhand-coding\u001b[48;5;255m \u001b[48;5;255mof\u001b[48;5;255m \u001b[48;5;255ma\u001b[48;5;255m \u001b[48;5;224mset\u001b[48;5;255m \u001b[48;5;255mof\u001b[48;5;255m \u001b[48;5;217mrules,\u001b[48;5;255m \u001b[48;5;224mcoupled\u001b[48;5;255m \u001b[48;5;255mwith\u001b[48;5;255m \u001b[48;5;255ma\u001b[48;5;255m \u001b[48;5;224mdictionary\u001b[48;5;255m \u001b[48;5;224mlookup:\u001b[48;5;255m \u001b[48;5;255msuch\u001b[48;5;255m \u001b[48;5;255mas\u001b[48;5;255m \u001b[48;5;255mby\u001b[48;5;255m \u001b[48;5;224mwriting\u001b[48;5;255m \u001b[48;5;224mgrammars\u001b[48;5;255m \u001b[48;5;255mor\u001b[48;5;255m \u001b[48;5;224mdevising\u001b[48;5;255m \u001b[48;5;224mheuristic\u001b[48;5;255m \u001b[48;5;217mrules\u001b[48;5;255m \u001b[48;5;255mfor\u001b[48;5;255m \u001b[48;5;224mstemming.\u001b[48;5;255m \u001b[48;5;255mMore\u001b[48;5;255m \u001b[48;5;224mrecent\u001b[48;5;255m \u001b[48;5;224msystems\u001b[48;5;255m \u001b[48;5;217mbased\u001b[48;5;255m \u001b[48;5;255mon\u001b[48;5;255m \u001b[48;5;217mmachine-learning\u001b[48;5;255m \u001b[48;5;217malgorithms\u001b[48;5;255m \u001b[48;5;255mhave\u001b[48;5;255m \u001b[48;5;223mmany\u001b[48;5;255m \u001b[48;5;224madvantages\u001b[48;5;255m \u001b[48;5;255mover\u001b[48;5;255m \u001b[48;5;224mhand-produced\u001b[48;5;255m \u001b[48;5;217mrules:\u001b[48;5;255m \u001b[48;5;224mDespite\u001b[48;5;255m \u001b[48;5;255mthe\u001b[48;5;255m \u001b[48;5;224mpopularity\u001b[48;5;255m \u001b[48;5;255mof\u001b[48;5;255m \u001b[48;5;217mmachine\u001b[48;5;255m \u001b[48;5;217mlearning\u001b[48;5;255m \u001b[48;5;255min\u001b[48;5;255m \u001b[48;5;217mNLP\u001b[48;5;255m \u001b[48;5;224mresearch,\u001b[48;5;255m \u001b[48;5;224msymbolic\u001b[48;5;255m \u001b[48;5;224mmethods\u001b[48;5;255m \u001b[48;5;255mare\u001b[48;5;255m \u001b[48;5;224mstill\u001b[48;5;255m \u001b[48;5;224m(2020)\u001b[48;5;255m \u001b[48;5;224mcommonly\u001b[48;5;255m \u001b[48;5;223mused\u001b[48;5;255m \u001b[48;5;224mSince\u001b[48;5;255m \u001b[48;5;255mthe\u001b[48;5;255m \u001b[48;5;255mso-called\u001b[48;5;255m \u001b[48;5;217m\"statistical\u001b[48;5;255m \u001b[48;5;224mrevolution\"\u001b[48;5;255m \u001b[48;5;255min\u001b[48;5;255m \u001b[48;5;255mthe\u001b[48;5;255m \u001b[48;5;224mlate\u001b[48;5;255m \u001b[48;5;224m1980s\u001b[48;5;255m \u001b[48;5;255mand\u001b[48;5;255m \u001b[48;5;224mmid-1990s,\u001b[48;5;255m \u001b[48;5;224mmuch\u001b[48;5;255m \u001b[48;5;210mnatural\u001b[48;5;255m \u001b[48;5;203mlanguage\u001b[48;5;255m \u001b[48;5;210mprocessing\u001b[48;5;255m \u001b[48;5;224mresearch\u001b[48;5;255m \u001b[48;5;255mhas\u001b[48;5;255m \u001b[48;5;224mrelied\u001b[48;5;255m \u001b[48;5;224mheavily\u001b[48;5;255m \u001b[48;5;255mon\u001b[48;5;255m \u001b[48;5;217mmachine\u001b[48;5;255m \u001b[48;5;217mlearning.\u001b[48;5;255m \u001b[48;5;255mThe\u001b[48;5;255m \u001b[48;5;217mmachine-learning\u001b[48;5;255m \u001b[48;5;224mparadigm\u001b[48;5;255m \u001b[48;5;224mcalls\u001b[48;5;255m \u001b[48;5;224minstead\u001b[48;5;255m \u001b[48;5;255mfor\u001b[48;5;255m \u001b[48;5;224musing\u001b[48;5;255m \u001b[48;5;217mstatistical\u001b[48;5;255m \u001b[48;5;224minference\u001b[48;5;255m \u001b[48;5;255mto\u001b[48;5;255m \u001b[48;5;224mautomatically\u001b[48;5;255m \u001b[48;5;224mlearn\u001b[48;5;255m \u001b[48;5;255msuch\u001b[48;5;255m \u001b[48;5;217mrules\u001b[48;5;255m \u001b[48;5;255mthrough\u001b[48;5;255m \u001b[48;5;255mthe\u001b[48;5;255m \u001b[48;5;224manalysis\u001b[48;5;255m \u001b[48;5;255mof\u001b[48;5;255m \u001b[48;5;224mlarge\u001b[48;5;255m \u001b[48;5;224mcorpora\u001b[48;5;255m \u001b[48;5;255m(the\u001b[48;5;255m \u001b[48;5;224mplural\u001b[48;5;255m \u001b[48;5;224mform\u001b[48;5;255m \u001b[48;5;255mof\u001b[48;5;255m \u001b[48;5;224mcorpus,\u001b[48;5;255m \u001b[48;5;255mis\u001b[48;5;255m \u001b[48;5;255ma\u001b[48;5;255m \u001b[48;5;224mset\u001b[48;5;255m \u001b[48;5;255mof\u001b[48;5;255m \u001b[48;5;224mdocuments,\u001b[48;5;255m \u001b[48;5;224mpossibly\u001b[48;5;255m \u001b[48;5;255mwith\u001b[48;5;255m \u001b[48;5;224mhuman\u001b[48;5;255m \u001b[48;5;255mor\u001b[48;5;255m \u001b[48;5;224mcomputer\u001b[48;5;255m \u001b[48;5;224mannotations)\u001b[48;5;255m \u001b[48;5;255mof\u001b[48;5;255m \u001b[48;5;224mtypical\u001b[48;5;255m \u001b[48;5;224mreal-world\u001b[48;5;255m \u001b[48;5;224mexamples.\u001b[48;5;255m \u001b[48;5;223mMany\u001b[48;5;255m \u001b[48;5;224mdifferent\u001b[48;5;255m \u001b[48;5;224mclasses\u001b[48;5;255m \u001b[48;5;255mof\u001b[48;5;255m \u001b[48;5;217mmachine-learning\u001b[48;5;255m \u001b[48;5;217malgorithms\u001b[48;5;255m \u001b[48;5;255mhave\u001b[48;5;255m \u001b[48;5;255mbeen\u001b[48;5;255m \u001b[48;5;224mapplied\u001b[48;5;255m \u001b[48;5;255mto\u001b[48;5;255m \u001b[48;5;210mnatural-language-processing\u001b[48;5;255m \u001b[48;5;217mtasks.\u001b[48;5;255m \u001b[48;5;255mThese\u001b[48;5;255m \u001b[48;5;217malgorithms\u001b[48;5;255m \u001b[48;5;224mtake\u001b[48;5;255m \u001b[48;5;255mas\u001b[48;5;255m \u001b[48;5;224minput\u001b[48;5;255m \u001b[48;5;255ma\u001b[48;5;255m \u001b[48;5;224mlarge\u001b[48;5;255m \u001b[48;5;224mset\u001b[48;5;255m \u001b[48;5;255mof\u001b[48;5;255m \u001b[48;5;224m\"features\"\u001b[48;5;255m \u001b[48;5;255mthat\u001b[48;5;255m \u001b[48;5;255mare\u001b[48;5;255m \u001b[48;5;224mgenerated\u001b[48;5;255m \u001b[48;5;255mfrom\u001b[48;5;255m \u001b[48;5;255mthe\u001b[48;5;255m \u001b[48;5;224minput\u001b[48;5;255m \u001b[48;5;224mdata.\u001b[48;5;255m \u001b[48;5;224mIncreasingly,\u001b[48;5;255m \u001b[48;5;224mhowever,\u001b[48;5;255m \u001b[48;5;224mresearch\u001b[48;5;255m \u001b[48;5;255mhas\u001b[48;5;255m \u001b[48;5;224mfocused\u001b[48;5;255m \u001b[48;5;255mon\u001b[48;5;255m \u001b[48;5;217mstatistical\u001b[48;5;255m \u001b[48;5;223mmodels,\u001b[48;5;255m \u001b[48;5;255mwhich\u001b[48;5;255m \u001b[48;5;224mmake\u001b[48;5;255m \u001b[48;5;224msoft,\u001b[48;5;255m \u001b[48;5;224mprobabilistic\u001b[48;5;255m \u001b[48;5;224mdecisions\u001b[48;5;255m \u001b[48;5;217mbased\u001b[48;5;255m \u001b[48;5;255mon\u001b[48;5;255m \u001b[48;5;224mattaching\u001b[48;5;255m \u001b[48;5;224mreal-valued\u001b[48;5;255m \u001b[48;5;224mweights\u001b[48;5;255m \u001b[48;5;255mto\u001b[48;5;255m \u001b[48;5;255meach\u001b[48;5;255m \u001b[48;5;224minput\u001b[48;5;255m \u001b[48;5;224mfeature.\u001b[48;5;255m \u001b[48;5;255mSuch\u001b[48;5;255m \u001b[48;5;223mmodels\u001b[48;5;255m \u001b[48;5;255mhave\u001b[48;5;255m \u001b[48;5;255mthe\u001b[48;5;255m \u001b[48;5;224madvantage\u001b[48;5;255m \u001b[48;5;255mthat\u001b[48;5;255m \u001b[48;5;255mthey\u001b[48;5;255m \u001b[48;5;255mcan\u001b[48;5;255m \u001b[48;5;224mexpress\u001b[48;5;255m \u001b[48;5;255mthe\u001b[48;5;255m \u001b[48;5;224mrelative\u001b[48;5;255m \u001b[48;5;224mcertainty\u001b[48;5;255m \u001b[48;5;255mof\u001b[48;5;255m \u001b[48;5;223mmany\u001b[48;5;255m \u001b[48;5;224mdifferent\u001b[48;5;255m \u001b[48;5;224mpossible\u001b[48;5;255m \u001b[48;5;224manswers\u001b[48;5;255m \u001b[48;5;224mrather\u001b[48;5;255m \u001b[48;5;255mthan\u001b[48;5;255m \u001b[48;5;255monly\u001b[48;5;255m \u001b[48;5;224mone,\u001b[48;5;255m \u001b[48;5;224mproducing\u001b[48;5;255m \u001b[48;5;255mmore\u001b[48;5;255m \u001b[48;5;224mreliable\u001b[48;5;255m \u001b[48;5;224mresults\u001b[48;5;255m \u001b[48;5;255mwhen\u001b[48;5;255m \u001b[48;5;255msuch\u001b[48;5;255m \u001b[48;5;255ma\u001b[48;5;255m \u001b[48;5;224mmodel\u001b[48;5;255m \u001b[48;5;255mis\u001b[48;5;255m \u001b[48;5;224mincluded\u001b[48;5;255m \u001b[48;5;255mas\u001b[48;5;255m \u001b[48;5;255ma\u001b[48;5;255m \u001b[48;5;224mcomponent\u001b[48;5;255m \u001b[48;5;255mof\u001b[48;5;255m \u001b[48;5;255ma\u001b[48;5;255m \u001b[48;5;224mlarger\u001b[48;5;255m \u001b[48;5;224msystem.\u001b[48;5;255m \u001b[48;5;255mSome\u001b[48;5;255m \u001b[48;5;255mof\u001b[48;5;255m \u001b[48;5;255mthe\u001b[48;5;255m \u001b[48;5;224mearliest-used\u001b[48;5;255m \u001b[48;5;217mmachine\u001b[48;5;255m \u001b[48;5;217mlearning\u001b[48;5;255m \u001b[48;5;217malgorithms,\u001b[48;5;255m \u001b[48;5;255msuch\u001b[48;5;255m \u001b[48;5;255mas\u001b[48;5;255m \u001b[48;5;224mdecision\u001b[48;5;255m \u001b[48;5;224mtrees,\u001b[48;5;255m \u001b[48;5;224mproduced\u001b[48;5;255m \u001b[48;5;224msystems\u001b[48;5;255m \u001b[48;5;255mof\u001b[48;5;255m \u001b[48;5;224mhard\u001b[48;5;255m \u001b[48;5;255mif-then\u001b[48;5;255m \u001b[48;5;217mrules\u001b[48;5;255m \u001b[48;5;224msimilar\u001b[48;5;255m \u001b[48;5;255mto\u001b[48;5;255m \u001b[48;5;224mexisting\u001b[48;5;255m \u001b[48;5;224mhand-written\u001b[48;5;255m \u001b[48;5;217mrules.\u001b[48;5;255m \u001b[48;5;224mHowever,\u001b[48;5;255m \u001b[48;5;224mpart-of-speech\u001b[48;5;255m \u001b[48;5;224mtagging\u001b[48;5;255m \u001b[48;5;224mintroduced\u001b[48;5;255m \u001b[48;5;255mthe\u001b[48;5;255m \u001b[48;5;224muse\u001b[48;5;255m \u001b[48;5;255mof\u001b[48;5;255m \u001b[48;5;224mhidden\u001b[48;5;255m \u001b[48;5;224mMarkov\u001b[48;5;255m \u001b[48;5;223mmodels\u001b[48;5;255m \u001b[48;5;255mto\u001b[48;5;255m \u001b[48;5;210mnatural\u001b[48;5;255m \u001b[48;5;203mlanguage\u001b[48;5;255m \u001b[48;5;210mprocessing,\u001b[48;5;255m \u001b[48;5;255mand\u001b[48;5;255m \u001b[48;5;224mincreasingly,\u001b[48;5;255m \u001b[48;5;224mresearch\u001b[48;5;255m \u001b[48;5;255mhas\u001b[48;5;255m \u001b[48;5;224mfocused\u001b[48;5;255m \u001b[48;5;255mon\u001b[48;5;255m \u001b[48;5;217mstatistical\u001b[48;5;255m \u001b[48;5;223mmodels,\u001b[48;5;255m \u001b[48;5;255mwhich\u001b[48;5;255m \u001b[48;5;224mmake\u001b[48;5;255m \u001b[48;5;224msoft,\u001b[48;5;255m \u001b[48;5;224mprobabilistic\u001b[48;5;255m \u001b[48;5;224mdecisions\u001b[48;5;255m \u001b[48;5;217mbased\u001b[48;5;255m \u001b[48;5;255mon\u001b[48;5;255m \u001b[48;5;224mattaching\u001b[48;5;255m \u001b[48;5;224mreal-valued\u001b[48;5;255m \u001b[48;5;224mweights\u001b[48;5;255m \u001b[48;5;255mto\u001b[48;5;255m \u001b[48;5;255mthe\u001b[48;5;255m \u001b[48;5;224mfeatures\u001b[48;5;255m \u001b[48;5;224mmaking\u001b[48;5;255m \u001b[48;5;255mup\u001b[48;5;255m \u001b[48;5;255mthe\u001b[48;5;255m \u001b[48;5;224minput\u001b[48;5;255m \u001b[48;5;224mdata.\u001b[48;5;255m \u001b[48;5;255mThe\u001b[48;5;255m \u001b[48;5;224mcache\u001b[48;5;255m \u001b[48;5;203mlanguage\u001b[48;5;255m \u001b[48;5;223mmodels\u001b[48;5;255m \u001b[48;5;224mupon\u001b[48;5;255m \u001b[48;5;255mwhich\u001b[48;5;255m \u001b[48;5;223mmany\u001b[48;5;255m \u001b[48;5;224mspeech\u001b[48;5;255m \u001b[48;5;224mrecognition\u001b[48;5;255m \u001b[48;5;224msystems\u001b[48;5;255m \u001b[48;5;255mnow\u001b[48;5;255m \u001b[48;5;224mrely\u001b[48;5;255m \u001b[48;5;255mare\u001b[48;5;255m \u001b[48;5;224mexamples\u001b[48;5;255m \u001b[48;5;255mof\u001b[48;5;255m \u001b[48;5;255msuch\u001b[48;5;255m \u001b[48;5;217mstatistical\u001b[48;5;255m \u001b[48;5;223mmodels.\u001b[48;5;255m \u001b[48;5;255mSuch\u001b[48;5;255m \u001b[48;5;223mmodels\u001b[48;5;255m \u001b[48;5;255mare\u001b[48;5;255m \u001b[48;5;224mgenerally\u001b[48;5;255m \u001b[48;5;255mmore\u001b[48;5;255m \u001b[48;5;224mrobust\u001b[48;5;255m \u001b[48;5;255mwhen\u001b[48;5;255m \u001b[48;5;224mgiven\u001b[48;5;255m \u001b[48;5;224munfamiliar\u001b[48;5;255m \u001b[48;5;224minput,\u001b[48;5;255m \u001b[48;5;224mespecially\u001b[48;5;255m \u001b[48;5;224minput\u001b[48;5;255m \u001b[48;5;255mthat\u001b[48;5;255m \u001b[48;5;224mcontains\u001b[48;5;255m \u001b[48;5;224merrors\u001b[48;5;255m \u001b[48;5;255m(as\u001b[48;5;255m \u001b[48;5;255mis\u001b[48;5;255m \u001b[48;5;255mvery\u001b[48;5;255m \u001b[48;5;224mcommon\u001b[48;5;255m \u001b[48;5;255mfor\u001b[48;5;255m \u001b[48;5;224mreal-world\u001b[48;5;255m \u001b[48;5;224mdata),\u001b[48;5;255m \u001b[48;5;255mand\u001b[48;5;255m \u001b[48;5;224mproduce\u001b[48;5;255m \u001b[48;5;255mmore\u001b[48;5;255m \u001b[48;5;224mreliable\u001b[48;5;255m \u001b[48;5;224mresults\u001b[48;5;255m \u001b[48;5;255mwhen\u001b[48;5;255m \u001b[48;5;224mintegrated\u001b[48;5;255m \u001b[48;5;255minto\u001b[48;5;255m \u001b[48;5;255ma\u001b[48;5;255m \u001b[48;5;224mlarger\u001b[48;5;255m \u001b[48;5;224msystem\u001b[48;5;255m \u001b[48;5;224mcomprising\u001b[48;5;255m \u001b[48;5;224mmultiple\u001b[48;5;255m \u001b[48;5;224msubtasks.\u001b[48;5;255m \u001b[48;5;224mSince\u001b[48;5;255m \u001b[48;5;255mthe\u001b[48;5;255m \u001b[48;5;224mneural\u001b[48;5;255m \u001b[48;5;224mturn,\u001b[48;5;255m \u001b[48;5;217mstatistical\u001b[48;5;255m \u001b[48;5;224mmethods\u001b[48;5;255m \u001b[48;5;255min\u001b[48;5;255m \u001b[48;5;217mNLP\u001b[48;5;255m \u001b[48;5;224mresearch\u001b[48;5;255m \u001b[48;5;255mhave\u001b[48;5;255m \u001b[48;5;255mbeen\u001b[48;5;255m \u001b[48;5;224mlargely\u001b[48;5;255m \u001b[48;5;224mreplaced\u001b[48;5;255m \u001b[48;5;255mby\u001b[48;5;255m \u001b[48;5;224mneural\u001b[48;5;255m \u001b[48;5;224mnetworks.\u001b[48;5;255m \u001b[48;5;224mHowever,\u001b[48;5;255m \u001b[48;5;255mthey\u001b[48;5;255m \u001b[48;5;224mcontinue\u001b[48;5;255m \u001b[48;5;255mto\u001b[48;5;255m \u001b[48;5;255mbe\u001b[48;5;255m \u001b[48;5;224mrelevant\u001b[48;5;255m \u001b[48;5;255mfor\u001b[48;5;255m \u001b[48;5;224mcontexts\u001b[48;5;255m \u001b[48;5;255min\u001b[48;5;255m \u001b[48;5;255mwhich\u001b[48;5;255m \u001b[48;5;217mstatistical\u001b[48;5;255m \u001b[48;5;224minterpretability\u001b[48;5;255m \u001b[48;5;255mand\u001b[48;5;255m \u001b[48;5;224mtransparency\u001b[48;5;255m \u001b[48;5;255mis\u001b[48;5;255m \u001b[48;5;224mrequired.\u001b[48;5;255m \u001b[48;5;255mA\u001b[48;5;255m \u001b[48;5;224mmajor\u001b[48;5;255m \u001b[48;5;224mdrawback\u001b[48;5;255m \u001b[48;5;255mof\u001b[48;5;255m \u001b[48;5;217mstatistical\u001b[48;5;255m \u001b[48;5;224mmethods\u001b[48;5;255m \u001b[48;5;255mis\u001b[48;5;255m \u001b[48;5;255mthat\u001b[48;5;255m \u001b[48;5;255mthey\u001b[48;5;255m \u001b[48;5;224mrequire\u001b[48;5;255m \u001b[48;5;224melaborate\u001b[48;5;255m \u001b[48;5;224mfeature\u001b[48;5;255m \u001b[48;5;224mengineering.\u001b[48;5;255m \u001b[48;5;224mSince\u001b[48;5;255m \u001b[48;5;255mthe\u001b[48;5;255m \u001b[48;5;224mearly\u001b[48;5;255m \u001b[48;5;224m2010s,\u001b[48;5;255m \u001b[48;5;255mthe\u001b[48;5;255m \u001b[48;5;224mfield\u001b[48;5;255m \u001b[48;5;255mhas\u001b[48;5;255m \u001b[48;5;224mthus\u001b[48;5;255m \u001b[48;5;224mlargely\u001b[48;5;255m \u001b[48;5;224mabandoned\u001b[48;5;255m \u001b[48;5;217mstatistical\u001b[48;5;255m \u001b[48;5;224mmethods\u001b[48;5;255m \u001b[48;5;255mand\u001b[48;5;255m \u001b[48;5;224mshifted\u001b[48;5;255m \u001b[48;5;255mto\u001b[48;5;255m \u001b[48;5;224mneural\u001b[48;5;255m \u001b[48;5;224mnetworks\u001b[48;5;255m \u001b[48;5;255mfor\u001b[48;5;255m \u001b[48;5;217mmachine\u001b[48;5;255m \u001b[48;5;217mlearning.\u001b[48;5;255m \u001b[48;5;224mPopular\u001b[48;5;255m \u001b[48;5;224mtechniques\u001b[48;5;255m \u001b[48;5;224minclude\u001b[48;5;255m \u001b[48;5;255mthe\u001b[48;5;255m \u001b[48;5;224muse\u001b[48;5;255m \u001b[48;5;255mof\u001b[48;5;255m \u001b[48;5;224mword\u001b[48;5;255m \u001b[48;5;224membeddings\u001b[48;5;255m \u001b[48;5;255mto\u001b[48;5;255m \u001b[48;5;224mcapture\u001b[48;5;255m \u001b[48;5;224msemantic\u001b[48;5;255m \u001b[48;5;224mproperties\u001b[48;5;255m \u001b[48;5;255mof\u001b[48;5;255m \u001b[48;5;224mwords,\u001b[48;5;255m \u001b[48;5;255mand\u001b[48;5;255m \u001b[48;5;255man\u001b[48;5;255m \u001b[48;5;224mincrease\u001b[48;5;255m \u001b[48;5;255min\u001b[48;5;255m \u001b[48;5;224mend-to-end\u001b[48;5;255m \u001b[48;5;217mlearning\u001b[48;5;255m \u001b[48;5;255mof\u001b[48;5;255m \u001b[48;5;255ma\u001b[48;5;255m \u001b[48;5;224mhigher-level\u001b[48;5;255m \u001b[48;5;224mtask\u001b[48;5;255m \u001b[48;5;224m(e.g.,\u001b[48;5;255m \u001b[48;5;224mquestion\u001b[48;5;255m \u001b[48;5;224manswering)\u001b[48;5;255m \u001b[48;5;224minstead\u001b[48;5;255m \u001b[48;5;255mof\u001b[48;5;255m \u001b[48;5;224mrelying\u001b[48;5;255m \u001b[48;5;255mon\u001b[48;5;255m \u001b[48;5;255ma\u001b[48;5;255m \u001b[48;5;224mpipeline\u001b[48;5;255m \u001b[48;5;255mof\u001b[48;5;255m \u001b[48;5;224mseparate\u001b[48;5;255m \u001b[48;5;224mintermediate\u001b[48;5;255m \u001b[48;5;217mtasks\u001b[48;5;255m \u001b[48;5;224m(e.g.,\u001b[48;5;255m \u001b[48;5;224mpart-of-speech\u001b[48;5;255m \u001b[48;5;224mtagging\u001b[48;5;255m \u001b[48;5;255mand\u001b[48;5;255m \u001b[48;5;224mdependency\u001b[48;5;255m \u001b[48;5;224mparsing).\u001b[48;5;255m \u001b[48;5;255mIn\u001b[48;5;255m \u001b[48;5;255msome\u001b[48;5;255m \u001b[48;5;224mareas,\u001b[48;5;255m \u001b[48;5;255mthis\u001b[48;5;255m \u001b[48;5;224mshift\u001b[48;5;255m \u001b[48;5;255mhas\u001b[48;5;255m \u001b[48;5;224mentailed\u001b[48;5;255m \u001b[48;5;224msubstantial\u001b[48;5;255m \u001b[48;5;224mchanges\u001b[48;5;255m \u001b[48;5;255min\u001b[48;5;255m \u001b[48;5;255mhow\u001b[48;5;255m \u001b[48;5;217mNLP\u001b[48;5;255m \u001b[48;5;224msystems\u001b[48;5;255m \u001b[48;5;255mare\u001b[48;5;255m \u001b[48;5;224mdesigned,\u001b[48;5;255m \u001b[48;5;255msuch\u001b[48;5;255m \u001b[48;5;255mthat\u001b[48;5;255m \u001b[48;5;224mdeep\u001b[48;5;255m \u001b[48;5;224mneural\u001b[48;5;255m \u001b[48;5;224mnetwork-based\u001b[48;5;255m \u001b[48;5;224mapproaches\u001b[48;5;255m \u001b[48;5;224mmay\u001b[48;5;255m \u001b[48;5;255mbe\u001b[48;5;255m \u001b[48;5;224mviewed\u001b[48;5;255m \u001b[48;5;255mas\u001b[48;5;255m \u001b[48;5;255ma\u001b[48;5;255m \u001b[48;5;224mnew\u001b[48;5;255m \u001b[48;5;224mparadigm\u001b[48;5;255m \u001b[48;5;224mdistinct\u001b[48;5;255m \u001b[48;5;255mfrom\u001b[48;5;255m \u001b[48;5;217mstatistical\u001b[48;5;255m \u001b[48;5;210mnatural\u001b[48;5;255m \u001b[48;5;203mlanguage\u001b[48;5;255m \u001b[48;5;210mprocessing.\u001b[48;5;255m \u001b[48;5;255mFor\u001b[48;5;255m \u001b[48;5;224minstance,\u001b[48;5;255m \u001b[48;5;255mthe\u001b[48;5;255m \u001b[48;5;224mterm\u001b[48;5;255m \u001b[48;5;224mneural\u001b[48;5;255m \u001b[48;5;217mmachine\u001b[48;5;255m \u001b[48;5;224mtranslation\u001b[48;5;255m \u001b[48;5;224m(NMT)\u001b[48;5;255m \u001b[48;5;224memphasizes\u001b[48;5;255m \u001b[48;5;255mthe\u001b[48;5;255m \u001b[48;5;224mfact\u001b[48;5;255m \u001b[48;5;255mthat\u001b[48;5;255m \u001b[48;5;224mdeep\u001b[48;5;255m \u001b[48;5;217mlearning-based\u001b[48;5;255m \u001b[48;5;224mapproaches\u001b[48;5;255m \u001b[48;5;255mto\u001b[48;5;255m \u001b[48;5;217mmachine\u001b[48;5;255m \u001b[48;5;224mtranslation\u001b[48;5;255m \u001b[48;5;224mdirectly\u001b[48;5;255m \u001b[48;5;224mlearn\u001b[48;5;255m \u001b[48;5;224msequence-to-sequence\u001b[48;5;255m \u001b[48;5;224mtransformations,\u001b[48;5;255m \u001b[48;5;224mobviating\u001b[48;5;255m \u001b[48;5;255mthe\u001b[48;5;255m \u001b[48;5;224mneed\u001b[48;5;255m \u001b[48;5;255mfor\u001b[48;5;255m \u001b[48;5;224mintermediate\u001b[48;5;255m \u001b[48;5;224msteps\u001b[48;5;255m \u001b[48;5;255msuch\u001b[48;5;255m \u001b[48;5;255mas\u001b[48;5;255m \u001b[48;5;224mword\u001b[48;5;255m \u001b[48;5;224malignment\u001b[48;5;255m \u001b[48;5;255mand\u001b[48;5;255m \u001b[48;5;203mlanguage\u001b[48;5;255m \u001b[48;5;224mmodeling\u001b[48;5;255m \u001b[48;5;255mthat\u001b[48;5;255m \u001b[48;5;255mwas\u001b[48;5;255m \u001b[48;5;223mused\u001b[48;5;255m \u001b[48;5;255min\u001b[48;5;255m \u001b[48;5;217mstatistical\u001b[48;5;255m \u001b[48;5;217mmachine\u001b[48;5;255m \u001b[48;5;224mtranslation\u001b[48;5;255m \u001b[48;5;224m(SMT).\u001b[48;5;255m \u001b[48;5;255mThe\u001b[48;5;255m \u001b[48;5;224mfollowing\u001b[48;5;255m \u001b[48;5;255mis\u001b[48;5;255m \u001b[48;5;255ma\u001b[48;5;255m \u001b[48;5;224mlist\u001b[48;5;255m \u001b[48;5;255mof\u001b[48;5;255m \u001b[48;5;255msome\u001b[48;5;255m \u001b[48;5;255mof\u001b[48;5;255m \u001b[48;5;255mthe\u001b[48;5;255m \u001b[48;5;255mmost\u001b[48;5;255m \u001b[48;5;224mcommonly\u001b[48;5;255m \u001b[48;5;224mresearched\u001b[48;5;255m \u001b[48;5;217mtasks\u001b[48;5;255m \u001b[48;5;255min\u001b[48;5;255m \u001b[48;5;210mnatural\u001b[48;5;255m \u001b[48;5;203mlanguage\u001b[48;5;255m \u001b[48;5;210mprocessing.\u001b[48;5;255m \u001b[48;5;255mSome\u001b[48;5;255m \u001b[48;5;255mof\u001b[48;5;255m \u001b[48;5;255mthese\u001b[48;5;255m \u001b[48;5;217mtasks\u001b[48;5;255m \u001b[48;5;255mhave\u001b[48;5;255m \u001b[48;5;224mdirect\u001b[48;5;255m \u001b[48;5;224mreal-world\u001b[48;5;255m \u001b[48;5;224mapplications,\u001b[48;5;255m \u001b[48;5;255mwhile\u001b[48;5;255m \u001b[48;5;224mothers\u001b[48;5;255m \u001b[48;5;255mmore\u001b[48;5;255m \u001b[48;5;224mcommonly\u001b[48;5;255m \u001b[48;5;224mserve\u001b[48;5;255m \u001b[48;5;255mas\u001b[48;5;255m \u001b[48;5;224msubtasks\u001b[48;5;255m \u001b[48;5;255mthat\u001b[48;5;255m \u001b[48;5;255mare\u001b[48;5;255m \u001b[48;5;223mused\u001b[48;5;255m \u001b[48;5;255mto\u001b[48;5;255m \u001b[48;5;224maid\u001b[48;5;255m \u001b[48;5;255min\u001b[48;5;255m \u001b[48;5;224msolving\u001b[48;5;255m \u001b[48;5;224mlarger\u001b[48;5;255m \u001b[48;5;217mtasks.\u001b[48;5;255m \u001b[48;5;224mThough\u001b[48;5;255m \u001b[48;5;210mnatural\u001b[48;5;255m \u001b[48;5;203mlanguage\u001b[48;5;255m \u001b[48;5;210mprocessing\u001b[48;5;255m \u001b[48;5;217mtasks\u001b[48;5;255m \u001b[48;5;255mare\u001b[48;5;255m \u001b[48;5;224mclosely\u001b[48;5;255m \u001b[48;5;224mintertwined,\u001b[48;5;255m \u001b[48;5;255mthey\u001b[48;5;255m \u001b[48;5;255mcan\u001b[48;5;255m \u001b[48;5;255mbe\u001b[48;5;255m \u001b[48;5;224msubdivided\u001b[48;5;255m \u001b[48;5;255minto\u001b[48;5;255m \u001b[48;5;224mcategories\u001b[48;5;255m \u001b[48;5;255mfor\u001b[48;5;255m \u001b[48;5;224mconvenience.\u001b[48;5;255m \u001b[48;5;255mA\u001b[48;5;255m \u001b[48;5;224mcoarse\u001b[48;5;255m \u001b[48;5;224mdivision\u001b[48;5;255m \u001b[48;5;255mis\u001b[48;5;255m \u001b[48;5;224mgiven\u001b[48;5;255m \u001b[48;5;255mbelow.\u001b[48;5;255m \u001b[48;5;224mCognition\u001b[48;5;255m \u001b[48;5;224mrefers\u001b[48;5;255m \u001b[48;5;255mto\u001b[48;5;255m \u001b[48;5;255m\"the\u001b[48;5;255m \u001b[48;5;224mmental\u001b[48;5;255m \u001b[48;5;224maction\u001b[48;5;255m \u001b[48;5;255mor\u001b[48;5;255m \u001b[48;5;224mprocess\u001b[48;5;255m \u001b[48;5;255mof\u001b[48;5;255m \u001b[48;5;224macquiring\u001b[48;5;255m \u001b[48;5;224mknowledge\u001b[48;5;255m \u001b[48;5;255mand\u001b[48;5;255m \u001b[48;5;224munderstanding\u001b[48;5;255m \u001b[48;5;255mthrough\u001b[48;5;255m \u001b[48;5;224mthought,\u001b[48;5;255m \u001b[48;5;224mexperience,\u001b[48;5;255m \u001b[48;5;255mand\u001b[48;5;255m \u001b[48;5;255mthe\u001b[48;5;255m \u001b[48;5;224msenses.\"\u001b[48;5;255m \u001b[48;5;217mCognitive\u001b[48;5;255m \u001b[48;5;224mscience\u001b[48;5;255m \u001b[48;5;255mis\u001b[48;5;255m \u001b[48;5;255mthe\u001b[48;5;255m \u001b[48;5;224minterdisciplinary,\u001b[48;5;255m \u001b[48;5;224mscientific\u001b[48;5;255m \u001b[48;5;224mstudy\u001b[48;5;255m \u001b[48;5;255mof\u001b[48;5;255m \u001b[48;5;255mthe\u001b[48;5;255m \u001b[48;5;224mmind\u001b[48;5;255m \u001b[48;5;255mand\u001b[48;5;255m \u001b[48;5;255mits\u001b[48;5;255m \u001b[48;5;224mprocesses.\u001b[48;5;255m \u001b[48;5;217mCognitive\u001b[48;5;255m \u001b[48;5;223mlinguistics\u001b[48;5;255m \u001b[48;5;255mis\u001b[48;5;255m \u001b[48;5;255man\u001b[48;5;255m \u001b[48;5;224minterdisciplinary\u001b[48;5;255m \u001b[48;5;224mbranch\u001b[48;5;255m \u001b[48;5;255mof\u001b[48;5;255m \u001b[48;5;223mlinguistics,\u001b[48;5;255m \u001b[48;5;224mcombining\u001b[48;5;255m \u001b[48;5;224mknowledge\u001b[48;5;255m \u001b[48;5;255mand\u001b[48;5;255m \u001b[48;5;224mresearch\u001b[48;5;255m \u001b[48;5;255mfrom\u001b[48;5;255m \u001b[48;5;255mboth\u001b[48;5;255m \u001b[48;5;224mpsychology\u001b[48;5;255m \u001b[48;5;255mand\u001b[48;5;255m \u001b[48;5;223mlinguistics.\u001b[48;5;255m \u001b[48;5;224mGeorge\u001b[48;5;255m \u001b[48;5;224mLakoff\u001b[48;5;255m \u001b[48;5;224moffers\u001b[48;5;255m \u001b[48;5;255ma\u001b[48;5;255m \u001b[48;5;224mmethodology\u001b[48;5;255m \u001b[48;5;255mto\u001b[48;5;255m \u001b[48;5;224mbuild\u001b[48;5;255m \u001b[48;5;210mNatural\u001b[48;5;255m \u001b[48;5;203mlanguage\u001b[48;5;255m \u001b[48;5;210mprocessing\u001b[48;5;255m \u001b[48;5;217m(NLP)\u001b[48;5;255m \u001b[48;5;217malgorithms\u001b[48;5;255m \u001b[48;5;255mthrough\u001b[48;5;255m \u001b[48;5;255mthe\u001b[48;5;255m \u001b[48;5;224mperspective\u001b[48;5;255m \u001b[48;5;255mof\u001b[48;5;255m \u001b[48;5;217mCognitive\u001b[48;5;255m \u001b[48;5;224mscience,\u001b[48;5;255m \u001b[48;5;224malong\u001b[48;5;255m \u001b[48;5;255mwith\u001b[48;5;255m \u001b[48;5;255mthe\u001b[48;5;255m \u001b[48;5;224mfindings\u001b[48;5;255m \u001b[48;5;255mof\u001b[48;5;255m \u001b[48;5;217mCognitive\u001b[48;5;255m \u001b[48;5;223mlinguistics:\u001b[48;5;255m \u001b[48;5;255mThe\u001b[48;5;255m \u001b[48;5;224mfirst\u001b[48;5;255m \u001b[48;5;224mdefining\u001b[48;5;255m \u001b[48;5;224maspect\u001b[48;5;255m \u001b[48;5;255mof\u001b[48;5;255m \u001b[48;5;255mthis\u001b[48;5;255m \u001b[48;5;217mcognitive\u001b[48;5;255m \u001b[48;5;224mtask\u001b[48;5;255m \u001b[48;5;255mof\u001b[48;5;255m \u001b[48;5;217mNLP\u001b[48;5;255m \u001b[48;5;255mis\u001b[48;5;255m \u001b[48;5;255mthe\u001b[48;5;255m \u001b[48;5;224mapplication\u001b[48;5;255m \u001b[48;5;255mof\u001b[48;5;255m \u001b[48;5;255mthe\u001b[48;5;255m \u001b[48;5;224mtheory\u001b[48;5;255m \u001b[48;5;255mof\u001b[48;5;255m \u001b[48;5;224mConceptual\u001b[48;5;255m \u001b[48;5;224mmetaphor,\u001b[48;5;255m \u001b[48;5;224mexplained\u001b[48;5;255m \u001b[48;5;255mby\u001b[48;5;255m \u001b[48;5;224mLakoff\u001b[48;5;255m \u001b[48;5;255mas\u001b[48;5;255m \u001b[48;5;255m“the\u001b[48;5;255m \u001b[48;5;224munderstanding\u001b[48;5;255m \u001b[48;5;255mof\u001b[48;5;255m \u001b[48;5;224mone\u001b[48;5;255m \u001b[48;5;224midea,\u001b[48;5;255m \u001b[48;5;255min\u001b[48;5;255m \u001b[48;5;224mterms\u001b[48;5;255m \u001b[48;5;255mof\u001b[48;5;255m \u001b[48;5;224manother”\u001b[48;5;255m \u001b[48;5;255mwhich\u001b[48;5;255m \u001b[48;5;224mprovides\u001b[48;5;255m \u001b[48;5;255man\u001b[48;5;255m \u001b[48;5;224midea\u001b[48;5;255m \u001b[48;5;255mof\u001b[48;5;255m \u001b[48;5;255mthe\u001b[48;5;255m \u001b[48;5;224mintent\u001b[48;5;255m \u001b[48;5;255mof\u001b[48;5;255m \u001b[48;5;255mthe\u001b[48;5;255m \u001b[48;5;224mauthor.\u001b[48;5;255m \u001b[48;5;255mFor\u001b[48;5;255m \u001b[48;5;224mexample,\u001b[48;5;255m \u001b[48;5;224mconsider\u001b[48;5;255m \u001b[48;5;255msome\u001b[48;5;255m \u001b[48;5;255mof\u001b[48;5;255m \u001b[48;5;255mthe\u001b[48;5;255m \u001b[48;5;224mmeanings,\u001b[48;5;255m \u001b[48;5;255min\u001b[48;5;255m \u001b[48;5;224mEnglish,\u001b[48;5;255m \u001b[48;5;255mof\u001b[48;5;255m \u001b[48;5;255mthe\u001b[48;5;255m \u001b[48;5;224mword\u001b[48;5;255m \u001b[48;5;224m“big”.\u001b[48;5;255m \u001b[48;5;255mWhen\u001b[48;5;255m \u001b[48;5;223mused\u001b[48;5;255m \u001b[48;5;255mas\u001b[48;5;255m \u001b[48;5;255ma\u001b[48;5;255m \u001b[48;5;224mComparative,\u001b[48;5;255m \u001b[48;5;255mas\u001b[48;5;255m \u001b[48;5;255min\u001b[48;5;255m \u001b[48;5;255m“That\u001b[48;5;255m \u001b[48;5;255mis\u001b[48;5;255m \u001b[48;5;255ma\u001b[48;5;255m \u001b[48;5;224mbig\u001b[48;5;255m \u001b[48;5;224mtree,”\u001b[48;5;255m \u001b[48;5;255ma\u001b[48;5;255m \u001b[48;5;224mlikely\u001b[48;5;255m \u001b[48;5;224minference\u001b[48;5;255m \u001b[48;5;255mof\u001b[48;5;255m \u001b[48;5;255mthe\u001b[48;5;255m \u001b[48;5;224mintent\u001b[48;5;255m \u001b[48;5;255mof\u001b[48;5;255m \u001b[48;5;255mthe\u001b[48;5;255m \u001b[48;5;224mauthor\u001b[48;5;255m \u001b[48;5;255mis\u001b[48;5;255m \u001b[48;5;255mthat\u001b[48;5;255m \u001b[48;5;255mthe\u001b[48;5;255m \u001b[48;5;224mauthor\u001b[48;5;255m \u001b[48;5;255mis\u001b[48;5;255m \u001b[48;5;224musing\u001b[48;5;255m \u001b[48;5;255mthe\u001b[48;5;255m \u001b[48;5;224mword\u001b[48;5;255m \u001b[48;5;224m“big”\u001b[48;5;255m \u001b[48;5;255mto\u001b[48;5;255m \u001b[48;5;224mimply\u001b[48;5;255m \u001b[48;5;255ma\u001b[48;5;255m \u001b[48;5;224mstatement\u001b[48;5;255m \u001b[48;5;255mabout\u001b[48;5;255m \u001b[48;5;255mthe\u001b[48;5;255m \u001b[48;5;224mtree\u001b[48;5;255m \u001b[48;5;255mbeing\u001b[48;5;255m \u001b[48;5;224m”physically\u001b[48;5;255m \u001b[48;5;224mlarge”\u001b[48;5;255m \u001b[48;5;255min\u001b[48;5;255m \u001b[48;5;224mcomparison\u001b[48;5;255m \u001b[48;5;255mto\u001b[48;5;255m \u001b[48;5;255mother\u001b[48;5;255m \u001b[48;5;224mtrees\u001b[48;5;255m \u001b[48;5;255mor\u001b[48;5;255m \u001b[48;5;255mthe\u001b[48;5;255m \u001b[48;5;224mauthors\u001b[48;5;255m \u001b[48;5;224mexperience.\u001b[48;5;255m \u001b[48;5;255mWhen\u001b[48;5;255m \u001b[48;5;223mused\u001b[48;5;255m \u001b[48;5;255mas\u001b[48;5;255m \u001b[48;5;255ma\u001b[48;5;255m \u001b[48;5;224mStative\u001b[48;5;255m \u001b[48;5;224mverb,\u001b[48;5;255m \u001b[48;5;255mas\u001b[48;5;255m \u001b[48;5;255min\u001b[48;5;255m \u001b[48;5;224m”Tomorrow\u001b[48;5;255m \u001b[48;5;255mis\u001b[48;5;255m \u001b[48;5;255ma\u001b[48;5;255m \u001b[48;5;224mbig\u001b[48;5;255m \u001b[48;5;224mday”,\u001b[48;5;255m \u001b[48;5;255ma\u001b[48;5;255m \u001b[48;5;224mlikely\u001b[48;5;255m \u001b[48;5;224minference\u001b[48;5;255m \u001b[48;5;255mof\u001b[48;5;255m \u001b[48;5;255mthe\u001b[48;5;255m \u001b[48;5;224mauthor’s\u001b[48;5;255m \u001b[48;5;224mintent\u001b[48;5;255m \u001b[48;5;255mit\u001b[48;5;255m \u001b[48;5;255mthat\u001b[48;5;255m \u001b[48;5;224m”big”\u001b[48;5;255m \u001b[48;5;255mis\u001b[48;5;255m \u001b[48;5;255mbeing\u001b[48;5;255m \u001b[48;5;223mused\u001b[48;5;255m \u001b[48;5;255mto\u001b[48;5;255m \u001b[48;5;224mimply\u001b[48;5;255m \u001b[48;5;224m”importance”.\u001b[48;5;255m \u001b[48;5;255mThese\u001b[48;5;255m \u001b[48;5;224mexamples\u001b[48;5;255m \u001b[48;5;255mare\u001b[48;5;255m \u001b[48;5;255mnot\u001b[48;5;255m \u001b[48;5;224mpresented\u001b[48;5;255m \u001b[48;5;255mto\u001b[48;5;255m \u001b[48;5;255mbe\u001b[48;5;255m \u001b[48;5;224mcomplete,\u001b[48;5;255m \u001b[48;5;255mbut\u001b[48;5;255m \u001b[48;5;224mmerely\u001b[48;5;255m \u001b[48;5;255mas\u001b[48;5;255m \u001b[48;5;224mindicators\u001b[48;5;255m \u001b[48;5;255mof\u001b[48;5;255m \u001b[48;5;255mthe\u001b[48;5;255m \u001b[48;5;224mimplication\u001b[48;5;255m \u001b[48;5;255mof\u001b[48;5;255m \u001b[48;5;255mthe\u001b[48;5;255m \u001b[48;5;224midea\u001b[48;5;255m \u001b[48;5;255mof\u001b[48;5;255m \u001b[48;5;224mConceptual\u001b[48;5;255m \u001b[48;5;224mmetaphor.\u001b[48;5;255m \u001b[48;5;255mThe\u001b[48;5;255m \u001b[48;5;224mintent\u001b[48;5;255m \u001b[48;5;224mbehind\u001b[48;5;255m \u001b[48;5;255mother\u001b[48;5;255m \u001b[48;5;224musages,\u001b[48;5;255m \u001b[48;5;224mlike\u001b[48;5;255m \u001b[48;5;255min\u001b[48;5;255m \u001b[48;5;255m”She\u001b[48;5;255m \u001b[48;5;255mis\u001b[48;5;255m \u001b[48;5;255ma\u001b[48;5;255m \u001b[48;5;224mbig\u001b[48;5;255m \u001b[48;5;224mperson”\u001b[48;5;255m \u001b[48;5;255mwill\u001b[48;5;255m \u001b[48;5;224mremain\u001b[48;5;255m \u001b[48;5;224msomewhat\u001b[48;5;255m \u001b[48;5;224mambiguous\u001b[48;5;255m \u001b[48;5;255mto\u001b[48;5;255m \u001b[48;5;255ma\u001b[48;5;255m \u001b[48;5;224mperson\u001b[48;5;255m \u001b[48;5;255mand\u001b[48;5;255m \u001b[48;5;255ma\u001b[48;5;255m \u001b[48;5;217mcognitive\u001b[48;5;255m \u001b[48;5;217mNLP\u001b[48;5;255m \u001b[48;5;224malgorithm\u001b[48;5;255m \u001b[48;5;224malike\u001b[48;5;255m \u001b[48;5;224mwithout\u001b[48;5;255m \u001b[48;5;224madditional\u001b[48;5;255m \u001b[48;5;224minformation.\u001b[48;5;255m \u001b[48;5;255mThis\u001b[48;5;255m \u001b[48;5;224mleads\u001b[48;5;255m \u001b[48;5;255mto\u001b[48;5;255m \u001b[48;5;255mthe\u001b[48;5;255m \u001b[48;5;224msecond\u001b[48;5;255m \u001b[48;5;224mdefining\u001b[48;5;255m \u001b[48;5;224maspect\u001b[48;5;255m \u001b[48;5;255mof\u001b[48;5;255m \u001b[48;5;255mthis\u001b[48;5;255m \u001b[48;5;217mcognitive\u001b[48;5;255m \u001b[48;5;224mtask\u001b[48;5;255m \u001b[48;5;255mof\u001b[48;5;255m \u001b[48;5;217mNLP,\u001b[48;5;255m \u001b[48;5;224mnamely\u001b[48;5;255m \u001b[48;5;224mProbabilistic\u001b[48;5;255m \u001b[48;5;224mcontext-free\u001b[48;5;255m \u001b[48;5;224mgrammar\u001b[48;5;255m \u001b[48;5;224m(PCFG)\u001b[48;5;255m \u001b[48;5;255mwhich\u001b[48;5;255m \u001b[48;5;224menables\u001b[48;5;255m \u001b[48;5;217mcognitive\u001b[48;5;255m \u001b[48;5;217mNLP\u001b[48;5;255m \u001b[48;5;217malgorithms\u001b[48;5;255m \u001b[48;5;255mto\u001b[48;5;255m \u001b[48;5;224massign\u001b[48;5;255m \u001b[48;5;224mrelative\u001b[48;5;255m \u001b[48;5;224mmeasures\u001b[48;5;255m \u001b[48;5;255mof\u001b[48;5;255m \u001b[48;5;224mmeaning\u001b[48;5;255m \u001b[48;5;255mto\u001b[48;5;255m \u001b[48;5;255ma\u001b[48;5;255m \u001b[48;5;224mword,\u001b[48;5;255m \u001b[48;5;224mphrase,\u001b[48;5;255m \u001b[48;5;224msentence\u001b[48;5;255m \u001b[48;5;255mor\u001b[48;5;255m \u001b[48;5;224mpiece\u001b[48;5;255m \u001b[48;5;255mof\u001b[48;5;255m \u001b[48;5;224mtext\u001b[48;5;255m \u001b[48;5;217mbased\u001b[48;5;255m \u001b[48;5;255mon\u001b[48;5;255m \u001b[48;5;255mthe\u001b[48;5;255m \u001b[48;5;224minformation\u001b[48;5;255m \u001b[48;5;224mpresented\u001b[48;5;255m \u001b[48;5;255mbefore\u001b[48;5;255m \u001b[48;5;255mand\u001b[48;5;255m \u001b[48;5;255mafter\u001b[48;5;255m \u001b[48;5;255mthe\u001b[48;5;255m \u001b[48;5;224mpiece\u001b[48;5;255m \u001b[48;5;255mof\u001b[48;5;255m \u001b[48;5;224mtext\u001b[48;5;255m \u001b[48;5;255mbeing\u001b[48;5;255m \u001b[48;5;224manalyzed.\u001b[48;5;255m \u001b[48;5;255mThe\u001b[48;5;255m \u001b[48;5;224mmathematical\u001b[48;5;255m \u001b[48;5;224mequation\u001b[48;5;255m \u001b[48;5;255mfor\u001b[48;5;255m \u001b[48;5;255msuch\u001b[48;5;255m \u001b[48;5;217malgorithms\u001b[48;5;255m \u001b[48;5;255mis\u001b[48;5;255m \u001b[48;5;224mpresented\u001b[48;5;255m \u001b[48;5;255min\u001b[48;5;255m \u001b[48;5;224mUS\u001b[48;5;255m \u001b[48;5;224mpatent\u001b[48;5;255m \u001b[48;5;224m9269353\u001b[48;5;255m \u001b[48;5;255mWhere,\u001b[48;5;255m \u001b[48;5;224mRMM,\u001b[48;5;255m \u001b[48;5;255mis\u001b[48;5;255m \u001b[48;5;255mthe\u001b[48;5;255m \u001b[48;5;224mRelative\u001b[48;5;255m \u001b[48;5;224mMeasure\u001b[48;5;255m \u001b[48;5;255mof\u001b[48;5;255m \u001b[48;5;224mMeaning\u001b[48;5;255m \u001b[48;5;224mtoken,\u001b[48;5;255m \u001b[48;5;255mis\u001b[48;5;255m \u001b[48;5;255many\u001b[48;5;255m \u001b[48;5;224mblock\u001b[48;5;255m \u001b[48;5;255mof\u001b[48;5;255m \u001b[48;5;224mtext,\u001b[48;5;255m \u001b[48;5;224msentence,\u001b[48;5;255m \u001b[48;5;224mphrase\u001b[48;5;255m \u001b[48;5;255mor\u001b[48;5;255m \u001b[48;5;224mword\u001b[48;5;255m \u001b[48;5;224mN,\u001b[48;5;255m \u001b[48;5;255mis\u001b[48;5;255m \u001b[48;5;255mthe\u001b[48;5;255m \u001b[48;5;224mnumber\u001b[48;5;255m \u001b[48;5;255mof\u001b[48;5;255m \u001b[48;5;224mtokens\u001b[48;5;255m \u001b[48;5;255mbeing\u001b[48;5;255m \u001b[48;5;224manalyzed\u001b[48;5;255m \u001b[48;5;224mPMM,\u001b[48;5;255m \u001b[48;5;255mis\u001b[48;5;255m \u001b[48;5;255mthe\u001b[48;5;255m \u001b[48;5;224mProbable\u001b[48;5;255m \u001b[48;5;224mMeasure\u001b[48;5;255m \u001b[48;5;255mof\u001b[48;5;255m \u001b[48;5;224mMeaning\u001b[48;5;255m \u001b[48;5;217mbased\u001b[48;5;255m \u001b[48;5;255mon\u001b[48;5;255m \u001b[48;5;255ma\u001b[48;5;255m \u001b[48;5;224mcorpora\u001b[48;5;255m \u001b[48;5;255md,\u001b[48;5;255m \u001b[48;5;255mis\u001b[48;5;255m \u001b[48;5;255mthe\u001b[48;5;255m \u001b[48;5;224mlocation\u001b[48;5;255m \u001b[48;5;255mof\u001b[48;5;255m \u001b[48;5;255mthe\u001b[48;5;255m \u001b[48;5;224mtoken\u001b[48;5;255m \u001b[48;5;224malong\u001b[48;5;255m \u001b[48;5;255mthe\u001b[48;5;255m \u001b[48;5;224msequence\u001b[48;5;255m \u001b[48;5;255mof\u001b[48;5;255m \u001b[48;5;224mN-1\u001b[48;5;255m \u001b[48;5;224mtokens\u001b[48;5;255m \u001b[48;5;224mPF,\u001b[48;5;255m \u001b[48;5;255mis\u001b[48;5;255m \u001b[48;5;255mthe\u001b[48;5;255m \u001b[48;5;224mProbability\u001b[48;5;255m \u001b[48;5;224mFunction\u001b[48;5;255m \u001b[48;5;224mspecific\u001b[48;5;255m \u001b[48;5;255mto\u001b[48;5;255m \u001b[48;5;255ma\u001b[48;5;255m \u001b[48;5;203mlanguage\u001b[48;5;255m \n"
     ]
    }
   ],
   "source": [
    "colored_text = make_colored_text(wiki_article, gradient, ratio_dict)\n",
    "print(colored_text)"
   ]
  },
  {
   "cell_type": "markdown",
   "metadata": {},
   "source": [
    "The darker the color is, the more significant the word is. You'll notice that words such as `natural`, `language`, `processing`, and `algorithms` are darker because they appear the most frequently in the model"
   ]
  },
  {
   "cell_type": "markdown",
   "metadata": {},
   "source": [
    "Let's see what happens when we color our summary"
   ]
  },
  {
   "cell_type": "code",
   "execution_count": 33,
   "metadata": {},
   "outputs": [
    {
     "name": "stdout",
     "output_type": "stream",
     "text": [
      "\u001b[48;5;255m\u001b[48;5;210mNatural\u001b[48;5;255m \u001b[48;5;203mlanguage\u001b[48;5;255m \u001b[48;5;210mprocessing\u001b[48;5;255m \u001b[48;5;217m(NLP)\u001b[48;5;255m \u001b[48;5;255mis\u001b[48;5;255m \u001b[48;5;255ma\u001b[48;5;255m \u001b[48;5;224msubfield\u001b[48;5;255m \u001b[48;5;255mof\u001b[48;5;255m \u001b[48;5;223mlinguistics,\u001b[48;5;255m \u001b[48;5;224mcomputer\u001b[48;5;255m \u001b[48;5;224mscience,\u001b[48;5;255m \u001b[48;5;255mand\u001b[48;5;255m \u001b[48;5;224martificial\u001b[48;5;255m \u001b[48;5;224mintelligence\u001b[48;5;255m \u001b[48;5;224mconcerned\u001b[48;5;255m \u001b[48;5;255mwith\u001b[48;5;255m \u001b[48;5;255mthe\u001b[48;5;255m \u001b[48;5;224minteractions\u001b[48;5;255m \u001b[48;5;255mbetween\u001b[48;5;255m \u001b[48;5;224mcomputers\u001b[48;5;255m \u001b[48;5;255mand\u001b[48;5;255m \u001b[48;5;224mhuman\u001b[48;5;255m \u001b[48;5;203mlanguage,\u001b[48;5;255m \u001b[48;5;255min\u001b[48;5;255m \u001b[48;5;224mparticular\u001b[48;5;255m \u001b[48;5;255mhow\u001b[48;5;255m \u001b[48;5;255mto\u001b[48;5;255m \u001b[48;5;224mprogram\u001b[48;5;255m \u001b[48;5;224mcomputers\u001b[48;5;255m \u001b[48;5;255mto\u001b[48;5;255m \u001b[48;5;224mprocess\u001b[48;5;255m \u001b[48;5;255mand\u001b[48;5;255m \u001b[48;5;224manalyze\u001b[48;5;255m \u001b[48;5;224mlarge\u001b[48;5;255m \u001b[48;5;224mamounts\u001b[48;5;255m \u001b[48;5;255mof\u001b[48;5;255m \u001b[48;5;210mnatural\u001b[48;5;255m \u001b[48;5;203mlanguage\u001b[48;5;255m \u001b[48;5;224mdata.\u001b[48;5;255m \u001b[48;5;224mChallenges\u001b[48;5;255m \u001b[48;5;255min\u001b[48;5;255m \u001b[48;5;210mnatural\u001b[48;5;255m \u001b[48;5;203mlanguage\u001b[48;5;255m \u001b[48;5;210mprocessing\u001b[48;5;255m \u001b[48;5;224mfrequently\u001b[48;5;255m \u001b[48;5;224minvolve\u001b[48;5;255m \u001b[48;5;224mspeech\u001b[48;5;255m \u001b[48;5;224mrecognition,\u001b[48;5;255m \u001b[48;5;210mnatural\u001b[48;5;255m \u001b[48;5;203mlanguage\u001b[48;5;255m \u001b[48;5;224munderstanding,\u001b[48;5;255m \u001b[48;5;255mand\u001b[48;5;255m \u001b[48;5;210mnatural-language\u001b[48;5;255m \u001b[48;5;224mgeneration.\u001b[48;5;255m \u001b[48;5;224mStarting\u001b[48;5;255m \u001b[48;5;255min\u001b[48;5;255m \u001b[48;5;255mthe\u001b[48;5;255m \u001b[48;5;224mlate\u001b[48;5;255m \u001b[48;5;224m1980s,\u001b[48;5;255m \u001b[48;5;224mhowever,\u001b[48;5;255m \u001b[48;5;255mthere\u001b[48;5;255m \u001b[48;5;255mwas\u001b[48;5;255m \u001b[48;5;255ma\u001b[48;5;255m \u001b[48;5;224mrevolution\u001b[48;5;255m \u001b[48;5;255min\u001b[48;5;255m \u001b[48;5;210mnatural\u001b[48;5;255m \u001b[48;5;203mlanguage\u001b[48;5;255m \u001b[48;5;210mprocessing\u001b[48;5;255m \u001b[48;5;255mwith\u001b[48;5;255m \u001b[48;5;255mthe\u001b[48;5;255m \u001b[48;5;224mintroduction\u001b[48;5;255m \u001b[48;5;255mof\u001b[48;5;255m \u001b[48;5;217mmachine\u001b[48;5;255m \u001b[48;5;217mlearning\u001b[48;5;255m \u001b[48;5;217malgorithms\u001b[48;5;255m \u001b[48;5;255mfor\u001b[48;5;255m \u001b[48;5;203mlanguage\u001b[48;5;255m \u001b[48;5;210mprocessing.\u001b[48;5;255m \u001b[48;5;223mMany\u001b[48;5;255m \u001b[48;5;224mdifferent\u001b[48;5;255m \u001b[48;5;224mclasses\u001b[48;5;255m \u001b[48;5;255mof\u001b[48;5;255m \u001b[48;5;217mmachine-learning\u001b[48;5;255m \u001b[48;5;217malgorithms\u001b[48;5;255m \u001b[48;5;255mhave\u001b[48;5;255m \u001b[48;5;255mbeen\u001b[48;5;255m \u001b[48;5;224mapplied\u001b[48;5;255m \u001b[48;5;255mto\u001b[48;5;255m \u001b[48;5;210mnatural-language-processing\u001b[48;5;255m \u001b[48;5;217mtasks.\u001b[48;5;255m \u001b[48;5;255mIn\u001b[48;5;255m \u001b[48;5;255msome\u001b[48;5;255m \u001b[48;5;224mareas,\u001b[48;5;255m \u001b[48;5;255mthis\u001b[48;5;255m \u001b[48;5;224mshift\u001b[48;5;255m \u001b[48;5;255mhas\u001b[48;5;255m \u001b[48;5;224mentailed\u001b[48;5;255m \u001b[48;5;224msubstantial\u001b[48;5;255m \u001b[48;5;224mchanges\u001b[48;5;255m \u001b[48;5;255min\u001b[48;5;255m \u001b[48;5;255mhow\u001b[48;5;255m \u001b[48;5;217mNLP\u001b[48;5;255m \u001b[48;5;224msystems\u001b[48;5;255m \u001b[48;5;255mare\u001b[48;5;255m \u001b[48;5;224mdesigned,\u001b[48;5;255m \u001b[48;5;255msuch\u001b[48;5;255m \u001b[48;5;255mthat\u001b[48;5;255m \u001b[48;5;224mdeep\u001b[48;5;255m \u001b[48;5;224mneural\u001b[48;5;255m \u001b[48;5;224mnetwork-based\u001b[48;5;255m \u001b[48;5;224mapproaches\u001b[48;5;255m \u001b[48;5;224mmay\u001b[48;5;255m \u001b[48;5;255mbe\u001b[48;5;255m \u001b[48;5;224mviewed\u001b[48;5;255m \u001b[48;5;255mas\u001b[48;5;255m \u001b[48;5;255ma\u001b[48;5;255m \u001b[48;5;224mnew\u001b[48;5;255m \u001b[48;5;224mparadigm\u001b[48;5;255m \u001b[48;5;224mdistinct\u001b[48;5;255m \u001b[48;5;255mfrom\u001b[48;5;255m \u001b[48;5;217mstatistical\u001b[48;5;255m \u001b[48;5;210mnatural\u001b[48;5;255m \u001b[48;5;203mlanguage\u001b[48;5;255m \u001b[48;5;210mprocessing.\u001b[48;5;255m \n"
     ]
    }
   ],
   "source": [
    "colored_summary = make_colored_text(summary, gradient, ratio_dict)\n",
    "print(colored_summary)"
   ]
  },
  {
   "cell_type": "markdown",
   "metadata": {},
   "source": [
    "You may notice that overall, our words are more red in color compared to the article. This makes perfect sense! We're trying to find the most relevant information, so our summary should be more colorful overall"
   ]
  }
 ],
 "metadata": {
  "kernelspec": {
   "display_name": "Python 3",
   "language": "python",
   "name": "python3"
  },
  "language_info": {
   "codemirror_mode": {
    "name": "ipython",
    "version": 3
   },
   "file_extension": ".py",
   "mimetype": "text/x-python",
   "name": "python",
   "nbconvert_exporter": "python",
   "pygments_lexer": "ipython3",
   "version": "3.7.3"
  }
 },
 "nbformat": 4,
 "nbformat_minor": 2
}
