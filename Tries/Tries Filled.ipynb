{
 "cells": [
  {
   "cell_type": "markdown",
   "metadata": {},
   "source": [
    "# 11/5 Notebook - Tries\n",
    "\n",
    "Hi everyone! This week, we'll be moving away from high-level programming to get a taste of the lower-level programming problems that NLP scientists dealt with in the past. Specifically, we'll be learning about the different ways that we can store a large list of words"
   ]
  },
  {
   "cell_type": "markdown",
   "metadata": {},
   "source": [
    "Objectives:\n",
    "- Learn an introduction to `object-oriented programming` and `recursion` in Python\n",
    "- Briefy explore familiar data structures such as `lists`\n",
    "- Create a new data structure, a `Trie`"
   ]
  },
  {
   "cell_type": "markdown",
   "metadata": {},
   "source": [
    "To finish this notebook, you'll have to complete the following methods:\n",
    "1. `binary_search()`\n",
    "2. `insert()`\n",
    "3. `find()`\n",
    "4. `simulate_find()`"
   ]
  },
  {
   "cell_type": "markdown",
   "metadata": {},
   "source": [
    "## Part 1: Loading the Data"
   ]
  },
  {
   "cell_type": "markdown",
   "metadata": {},
   "source": [
    "Let's start by importing some libaries"
   ]
  },
  {
   "cell_type": "code",
   "execution_count": 1,
   "metadata": {},
   "outputs": [],
   "source": [
    "import numpy as np\n",
    "import random\n",
    "import matplotlib.pyplot as plt\n",
    "import time"
   ]
  },
  {
   "cell_type": "markdown",
   "metadata": {},
   "source": [
    "We'll now load in our data set, `Colins Scrabble Words (2019)`"
   ]
  },
  {
   "cell_type": "code",
   "execution_count": 2,
   "metadata": {},
   "outputs": [],
   "source": [
    "file = open(\"Collins Scrabble Words (2019).txt\", encoding = \"utf-8\")\n",
    "text = file.read()\n",
    "scrabble_words = text.split(\"\\n\")[2:]"
   ]
  },
  {
   "cell_type": "markdown",
   "metadata": {},
   "source": [
    "To verify the data, we'll print a random sample of words"
   ]
  },
  {
   "cell_type": "code",
   "execution_count": 3,
   "metadata": {},
   "outputs": [
    {
     "data": {
      "text/plain": [
       "['VOLATILES', 'TWITS', 'MALTOLS', 'LICHENOSE', 'BITUMINIZATIONS']"
      ]
     },
     "execution_count": 3,
     "metadata": {},
     "output_type": "execute_result"
    }
   ],
   "source": [
    "random.choices(scrabble_words, k = 5)"
   ]
  },
  {
   "cell_type": "markdown",
   "metadata": {},
   "source": [
    "## Part 2: Lists\n",
    "\n",
    "First, we'll compare two ways of sorting our list, if it's `unsorted` versus `sorted`"
   ]
  },
  {
   "cell_type": "markdown",
   "metadata": {},
   "source": [
    "The function below performs `linear search`, assuming that the list is unsorted. It iterates through each element in the list and checks to see if the key and element in the list match"
   ]
  },
  {
   "cell_type": "code",
   "execution_count": 4,
   "metadata": {},
   "outputs": [],
   "source": [
    "def linear_search(key, words):\n",
    "    # makes sure the word is upper-case\n",
    "    key = key.upper()\n",
    "    for word in words:\n",
    "        if key == word:\n",
    "            return True\n",
    "    return False"
   ]
  },
  {
   "cell_type": "markdown",
   "metadata": {},
   "source": [
    "You'll see below that the function works as expected"
   ]
  },
  {
   "cell_type": "code",
   "execution_count": 5,
   "metadata": {},
   "outputs": [
    {
     "name": "stdout",
     "output_type": "stream",
     "text": [
      "False\n",
      "True\n"
     ]
    }
   ],
   "source": [
    "print(linear_search(\"thisisnotaword\", scrabble_words))\n",
    "print(linear_search(\"eureka\", scrabble_words))"
   ]
  },
  {
   "cell_type": "markdown",
   "metadata": {},
   "source": [
    "Now let's do a quick analysis of how good this function is. Clearly, the `best case` scenario is when we are looking for the first item in the list, and the `worst case` is if it doesn't exist in the list"
   ]
  },
  {
   "cell_type": "code",
   "execution_count": 6,
   "metadata": {},
   "outputs": [
    {
     "name": "stdout",
     "output_type": "stream",
     "text": [
      "Best Case Time: 0.0\n",
      "Worst Case Time: 0.017859458923339844\n",
      "Random Case Time: 0.015401601791381836\n"
     ]
    }
   ],
   "source": [
    "# best case\n",
    "start_time = time.time()\n",
    "linear_search(scrabble_words[0], scrabble_words)\n",
    "# worst case\n",
    "end_time = time.time()\n",
    "linear_search(\"notaword\", scrabble_words)\n",
    "# random word\n",
    "end_no_find_time = time.time()\n",
    "linear_search(random.choice(scrabble_words), scrabble_words)\n",
    "\n",
    "print(f\"Best Case Time: {end_time - start_time}\")\n",
    "print(f\"Worst Case Time: {end_no_find_time - end_time}\")\n",
    "print(f\"Random Case Time: {time.time() - end_no_find_time}\")"
   ]
  },
  {
   "cell_type": "markdown",
   "metadata": {},
   "source": [
    "This isn't that bad! But we can do better with `binary search`\n",
    "\n",
    "Complete the method `binary_search()` below, which does the following:\n",
    "1. Returns `False` for the edge case (`start >= end`)\n",
    "2. Calculates the `middle_index`, the average of `start` and `end`\n",
    "3. Recurses appropriately for `key > words[middle_index]` and `key < words[middle_index]`"
   ]
  },
  {
   "cell_type": "code",
   "execution_count": 7,
   "metadata": {},
   "outputs": [],
   "source": [
    "def binary_search(start, end, words, key):\n",
    "    # base case\n",
    "    if (start >= end):\n",
    "        return False\n",
    "    # get the middle index\n",
    "    middle_index = int((start + end) / 2)\n",
    "    \n",
    "    # different comparison cases \n",
    "    if (key == words[middle_index]):\n",
    "        return True\n",
    "    if (key > words[middle_index]):\n",
    "        return binary_search(middle_index + 1, end, words, key)\n",
    "    else:\n",
    "        return binary_search(start, middle_index - 1, words, key)"
   ]
  },
  {
   "cell_type": "markdown",
   "metadata": {},
   "source": [
    "<details>    \n",
    "<summary>\n",
    "    <font size=\"3\" color=\"darkgreen\"><b>Hint for Step 1</b></font>\n",
    "</summary>\n",
    "<p>\n",
    "<ul>\n",
    "    <li>replace ... with <code>False</code></li>\n",
    "</ul>\n",
    "</p>"
   ]
  },
  {
   "cell_type": "markdown",
   "metadata": {},
   "source": [
    "<details>    \n",
    "<summary>\n",
    "    <font size=\"3\" color=\"darkgreen\"><b>Hints for Step 2</b></font>\n",
    "</summary>\n",
    "<p>\n",
    "<ul>\n",
    "    <li>Don't forget to cast the number to an <code>int</code></li>\n",
    "    <li>Set <code>middle_index</code> to <code>int((start + end) / 2)</code></li>\n",
    "</ul>\n",
    "</p>"
   ]
  },
  {
   "cell_type": "markdown",
   "metadata": {},
   "source": [
    "<details>    \n",
    "<summary>\n",
    "    <font size=\"3\" color=\"darkgreen\"><b>Hints for Step 3</b></font>\n",
    "</summary>\n",
    "<p>\n",
    "<ul>\n",
    "    <li>If <code>key > words[middle_index]</code> return <code>binary_search(middle_index + 1, end, words, key)</code></li>\n",
    "    <li>If <code>key < words[middle_index]</code> return <code>binary_search(start, middle_index - 1, words, key)</code></li>\n",
    "</ul>\n",
    "</p>"
   ]
  },
  {
   "cell_type": "code",
   "execution_count": 8,
   "metadata": {},
   "outputs": [
    {
     "name": "stdout",
     "output_type": "stream",
     "text": [
      "Actual master of searching\n"
     ]
    }
   ],
   "source": [
    "# run this cell to test your code\n",
    "in_dict = binary_search(0, len(scrabble_words), scrabble_words, \"AARDVARK\")\n",
    "not_in_dict = binary_search(0, len(scrabble_words), scrabble_words, \"YOOPDEYOOP\")\n",
    "\n",
    "if in_dict and not not_in_dict:\n",
    "    print(\"Actual master of searching\")\n",
    "else:\n",
    "    print(\"Brush up on those algorithms homie\")"
   ]
  },
  {
   "cell_type": "markdown",
   "metadata": {},
   "source": [
    "Now we'll compare the two by using random sampling"
   ]
  },
  {
   "cell_type": "code",
   "execution_count": 9,
   "metadata": {},
   "outputs": [],
   "source": [
    "linear_time = 0\n",
    "binary_time = 0\n",
    "for sample in range(1000):\n",
    "    # test linear search\n",
    "    linear_start = time.time()\n",
    "    linear_search(random.choice(scrabble_words), scrabble_words)\n",
    "    linear_time += (time.time() - linear_start)\n",
    "    \n",
    "    # test binary search\n",
    "    binary_start = time.time()\n",
    "    binary_search(0, len(scrabble_words), scrabble_words, random.choice(scrabble_words))\n",
    "    binary_time += (time.time() - binary_start)"
   ]
  },
  {
   "cell_type": "markdown",
   "metadata": {},
   "source": [
    "As expected, the `binary search` time is much faster"
   ]
  },
  {
   "cell_type": "code",
   "execution_count": 10,
   "metadata": {},
   "outputs": [
    {
     "name": "stdout",
     "output_type": "stream",
     "text": [
      "Average Linear Search Time 0.010290016889572144\n",
      "Average Binary Search Time 3.950238227844238e-05\n"
     ]
    }
   ],
   "source": [
    "print(f\"Average Linear Search Time {linear_time / 1000}\")\n",
    "print(f\"Average Binary Search Time {binary_time / 1000}\")"
   ]
  },
  {
   "cell_type": "markdown",
   "metadata": {},
   "source": [
    "You might be wondering why we need another data structure, but I'll present a problem that is very slow to solve by using a list:\n",
    "\n",
    "Suppose we're given a list of letters, and we want to form all of the possible words in our `Scrabble Dictionary` that can be made with these letters\n",
    "\n",
    "Our general algorithm (which I will implement) is as follows:\n",
    "   1. Create a `numpy array` of word counts for each `word` and our `key`\n",
    "   2. Check if our word counts is greater for our key for every letter\n",
    "   3. If it is, add it to our solutions"
   ]
  },
  {
   "cell_type": "code",
   "execution_count": 11,
   "metadata": {},
   "outputs": [],
   "source": [
    "# helper method to create our word counts\n",
    "def create_word_counts(w):\n",
    "    w = w.upper()\n",
    "    word_counts = np.zeros(26)\n",
    "    for letter in w:\n",
    "        word_counts[(ord(letter) - ord(\"A\"))] += 1\n",
    "    return word_counts"
   ]
  },
  {
   "cell_type": "code",
   "execution_count": 12,
   "metadata": {},
   "outputs": [],
   "source": [
    "# main method\n",
    "def unscramble_list(scramble, words):\n",
    "    # initialize list and scrambled word counts\n",
    "    possible_words = []\n",
    "    scramble_count = create_word_counts(scramble.upper())\n",
    "    \n",
    "    # iterate through each word\n",
    "    for word in words:\n",
    "        # create the word count\n",
    "        word_count = create_word_counts(word)\n",
    "        \n",
    "        # compare the numbers in the count\n",
    "        if (np.all(word_count <= scramble_count)):\n",
    "            possible_words.append(word)\n",
    "    \n",
    "    return possible_words"
   ]
  },
  {
   "cell_type": "markdown",
   "metadata": {},
   "source": [
    "You can try unscrambling words below!"
   ]
  },
  {
   "cell_type": "code",
   "execution_count": 13,
   "metadata": {},
   "outputs": [
    {
     "data": {
      "text/plain": [
       "['AN', 'ANT', 'AT', 'NA', 'NAT', 'TA', 'TAN']"
      ]
     },
     "execution_count": 13,
     "metadata": {},
     "output_type": "execute_result"
    }
   ],
   "source": [
    "unscramble_list(\"ant\", scrabble_words)"
   ]
  },
  {
   "cell_type": "markdown",
   "metadata": {},
   "source": [
    "You might notice that this takes longer than it should"
   ]
  },
  {
   "cell_type": "code",
   "execution_count": 14,
   "metadata": {},
   "outputs": [
    {
     "name": "stdout",
     "output_type": "stream",
     "text": [
      "Run Time: 5.897517442703247 sec\n"
     ]
    }
   ],
   "source": [
    "start_time = time.time()\n",
    "unscramble_list(\"abcdefghijklmnopqrstuvwxyz\", scrabble_words)\n",
    "print(f\"Run Time: {time.time() - start_time} sec\")"
   ]
  },
  {
   "cell_type": "markdown",
   "metadata": {},
   "source": [
    "This may not seem like a long time, but if a program is doing a lot of other stuff, this will be a **huge** problem. Fortunately, another data structure, the `Trie`, will come to our rescue"
   ]
  },
  {
   "cell_type": "markdown",
   "metadata": {},
   "source": [
    "## Part 3: Implementing the Trie\n",
    "\n",
    "Recall what the `Trie` looks like:\n",
    "\n",
    "<img src = \"./Trie.png\" style = \"width:300px; height:auto;\"></img>\n",
    "\n",
    "For a better visualization of how inserting and searching for elements`Trie` works, you can click [here](https://www.cs.usfca.edu/~galles/visualization/Trie.html)"
   ]
  },
  {
   "cell_type": "markdown",
   "metadata": {},
   "source": [
    "We'll start by defining a `TrieNode` class (each circle in the picture)"
   ]
  },
  {
   "cell_type": "code",
   "execution_count": 15,
   "metadata": {},
   "outputs": [],
   "source": [
    "class TrieNode:\n",
    "    def __init__(self): \n",
    "        # give it 26 children, initialized to None\n",
    "        self.children = np.repeat(None, 26)\n",
    "        # if the node is a leaf, it is the end of the word\n",
    "        self.is_leaf = False"
   ]
  },
  {
   "cell_type": "markdown",
   "metadata": {},
   "source": [
    "Here we have a simple helper function for converting a character to an integer between 0 and 26"
   ]
  },
  {
   "cell_type": "code",
   "execution_count": 16,
   "metadata": {},
   "outputs": [],
   "source": [
    "def char_to_int(letter):\n",
    "    return ord(letter) - ord(\"A\")"
   ]
  },
  {
   "cell_type": "markdown",
   "metadata": {},
   "source": [
    "Complete the function `insert()` below, which takes a `TrieNode`, root, and a `word` as its arguments, and performs the following steps:\n",
    "1. Sets `node` to our `root`\n",
    "2. Uses `char_to_int()` to get the correct value for `letter_index`\n",
    "3. Sets `node.children[letter_index]` to a new `TrieNode()` if it doesn't exist as a child\n",
    "4. Updates the value of `node` to the appropriate child\n",
    "5. Updates `node.is_leaf` to `True`"
   ]
  },
  {
   "cell_type": "code",
   "execution_count": 17,
   "metadata": {},
   "outputs": [],
   "source": [
    "def insert(root, word):\n",
    "    # initialize the node\n",
    "    node = root\n",
    "    \n",
    "    # iterate through each letter\n",
    "    for letter in word:\n",
    "        # calculate the letter index\n",
    "        letter_index = char_to_int(letter) \n",
    "        \n",
    "        # check if there is no child and create one if needed\n",
    "        if (node.children[letter_index] == None):\n",
    "            node.children[letter_index] = TrieNode()\n",
    "            \n",
    "        # update our node\n",
    "        node = node.children[letter_index]\n",
    "        \n",
    "    # make the end node a leaf node\n",
    "    node.is_leaf = True"
   ]
  },
  {
   "cell_type": "markdown",
   "metadata": {},
   "source": [
    "<details>    \n",
    "<summary>\n",
    "    <font size=\"3\" color=\"darkgreen\"><b>Hint for Step 1</b></font>\n",
    "</summary>\n",
    "<p>\n",
    "<ul>\n",
    "    <li>Set <code>node</code> equal to <code>root</code></li>\n",
    "</ul>\n",
    "</p>"
   ]
  },
  {
   "cell_type": "markdown",
   "metadata": {},
   "source": [
    "<details>    \n",
    "<summary>\n",
    "    <font size=\"3\" color=\"darkgreen\"><b>Hints for Step 2</b></font>\n",
    "</summary>\n",
    "<p>\n",
    "<ul>\n",
    "    <li>Use<code>char_to_int()</code> with <code>letter</code> as the parameter</li>\n",
    "    <li>Set <code>letter_index</code> equal to <code>char_to_int(letter)</code></li>\n",
    "</ul>\n",
    "</p>"
   ]
  },
  {
   "cell_type": "markdown",
   "metadata": {},
   "source": [
    "<details>    \n",
    "<summary>\n",
    "    <font size=\"3\" color=\"darkgreen\"><b>Hints for Step 3</b></font>\n",
    "</summary>\n",
    "<p>\n",
    "<ul>\n",
    "    <li>Create a <code>TrieNode</code> by using the constructor, <code>TrieNode()</code></li>\n",
    "    <li>Use the line of code: <code>node.children[letter_index] = TrieNode()</code></li>\n",
    "</ul>\n",
    "</p>"
   ]
  },
  {
   "cell_type": "markdown",
   "metadata": {},
   "source": [
    "<details>    \n",
    "<summary>\n",
    "    <font size=\"3\" color=\"darkgreen\"><b>Hint for Step 4</b></font>\n",
    "</summary>\n",
    "<p>\n",
    "<ul>\n",
    "    <li>Set <code>node</code> equal to <code>node.children[letter_index]</code></li>\n",
    "</ul>\n",
    "</p>"
   ]
  },
  {
   "cell_type": "markdown",
   "metadata": {},
   "source": [
    "<details>    \n",
    "<summary>\n",
    "    <font size=\"3\" color=\"darkgreen\"><b>Hints for Step 5</b></font>\n",
    "</summary>\n",
    "<p>\n",
    "<ul>\n",
    "    <li>Set <code>is_leaf</code> of <code>node</code> to <code>True</code> using the <code>.</code> operator</li>\n",
    "    <li><code>node.is_leaf = True</code></li>\n",
    "</ul>\n",
    "</p>"
   ]
  },
  {
   "cell_type": "markdown",
   "metadata": {},
   "source": [
    "Now we'll create a simple function that uses `insert()` to appropriately create our `Trie`"
   ]
  },
  {
   "cell_type": "code",
   "execution_count": 18,
   "metadata": {},
   "outputs": [],
   "source": [
    "def insert_words(trie, words):\n",
    "    # iterate through each word\n",
    "    for word in words:\n",
    "        # insert it into the trie\n",
    "        insert(trie, word)"
   ]
  },
  {
   "cell_type": "markdown",
   "metadata": {},
   "source": [
    "All of our methods are done, so it's time to create our `Trie`"
   ]
  },
  {
   "cell_type": "code",
   "execution_count": 19,
   "metadata": {},
   "outputs": [],
   "source": [
    "scrabble_trie = TrieNode()\n",
    "insert_words(scrabble_trie, scrabble_words)"
   ]
  },
  {
   "cell_type": "markdown",
   "metadata": {},
   "source": [
    "Although it took a bit to create our `Trie`, it has benefits in some of its other methods. To showcase this, we'll create a function for checking if words exist in our dictionary"
   ]
  },
  {
   "cell_type": "markdown",
   "metadata": {},
   "source": [
    "Complete the function `find()` which does the following:\n",
    "1. Initializes `node` to the `trie`\n",
    "2. Returns appropriately if the `node == None`\n",
    "3. Sets the value of `letter_index` using `char_to_int()`\n",
    "4. Updates `node` to the value of its child\n",
    "5. Returns `True` if the `node` is not `None` and it is a leaf"
   ]
  },
  {
   "cell_type": "code",
   "execution_count": 20,
   "metadata": {},
   "outputs": [],
   "source": [
    "def find(trie, word):\n",
    "    # initializes the node\n",
    "    node = trie\n",
    "    \n",
    "    # iterates through each letter in the word\n",
    "    for letter in word:\n",
    "        # if the node is None, the word doesn't exist\n",
    "        if (node == None):\n",
    "            return False\n",
    "        \n",
    "        # get the index of the letter\n",
    "        letter_index = char_to_int(letter)\n",
    "        # sets the next node\n",
    "        node = node.children[letter_index]\n",
    "    \n",
    "    # returns true if the node doesn't equal None and is a leaf\n",
    "    return node != None and node.is_leaf"
   ]
  },
  {
   "cell_type": "markdown",
   "metadata": {},
   "source": [
    "<details>    \n",
    "<summary>\n",
    "    <font size=\"3\" color=\"darkgreen\"><b>Hint for Step 1</b></font>\n",
    "</summary>\n",
    "<p>\n",
    "<ul>\n",
    "    <li>Set <code>node</code> equal to <code>trie</code></li>\n",
    "</ul>\n",
    "</p>"
   ]
  },
  {
   "cell_type": "markdown",
   "metadata": {},
   "source": [
    "<details>    \n",
    "<summary>\n",
    "    <font size=\"3\" color=\"darkgreen\"><b>Hint for Step 2</b></font>\n",
    "</summary>\n",
    "<p>\n",
    "<ul>\n",
    "    <li>You want to return <code>False</code> in this case</li>\n",
    "</ul>\n",
    "</p>"
   ]
  },
  {
   "cell_type": "markdown",
   "metadata": {},
   "source": [
    "<details>    \n",
    "<summary>\n",
    "    <font size=\"3\" color=\"darkgreen\"><b>Hints for Step 3</b></font>\n",
    "</summary>\n",
    "<p>\n",
    "<ul>\n",
    "    <li>Use<code>char_to_int()</code> with <code>letter</code> as the parameter</li>\n",
    "    <li>Set <code>letter_index</code> equal to <code>char_to_int(letter)</code></li>\n",
    "</ul>\n",
    "</p>"
   ]
  },
  {
   "cell_type": "markdown",
   "metadata": {},
   "source": [
    "<details>    \n",
    "<summary>\n",
    "    <font size=\"3\" color=\"darkgreen\"><b>Hint for Step 4</b></font>\n",
    "</summary>\n",
    "<p>\n",
    "<ul>\n",
    "    <li>Set <code>node</code> equal to <code>node.children[letter_index]</code></li>\n",
    "</ul>\n",
    "</p>"
   ]
  },
  {
   "cell_type": "markdown",
   "metadata": {},
   "source": [
    "<details>    \n",
    "<summary>\n",
    "    <font size=\"3\" color=\"darkgreen\"><b>Hint for Step 5</b></font>\n",
    "</summary>\n",
    "<p>\n",
    "<ul>\n",
    "    <li>Return the condition <code>node != None and node.is_leaf</code></li>\n",
    "</ul>\n",
    "</p>"
   ]
  },
  {
   "cell_type": "code",
   "execution_count": 21,
   "metadata": {},
   "outputs": [
    {
     "name": "stdout",
     "output_type": "stream",
     "text": [
      "Congratulations, sailor!\n"
     ]
    }
   ],
   "source": [
    "# run this cell to test your code for find and insert\n",
    "in_trie = find(scrabble_trie, \"DEARTH\")\n",
    "not_in_trie = find(scrabble_trie, \"SPLEARTH\")\n",
    "\n",
    "if in_trie and not not_in_trie:\n",
    "    print(\"Congratulations, sailor!\")\n",
    "else:\n",
    "    print(\"Back to the seven seas with you, sailor\")"
   ]
  },
  {
   "cell_type": "markdown",
   "metadata": {},
   "source": [
    "Mathematically, the runtime of binary search is $O(log_2(n))$, while the runtime of find for our `Trie` is $O(m)$, where $m$ is the length of our word. This is a considerable difference for very long dictionaries!\n",
    "\n",
    "In the next cell, we'll prove this by simulation"
   ]
  },
  {
   "cell_type": "markdown",
   "metadata": {},
   "source": [
    "Create a function called `simulate_find()` which does the following:\n",
    "1. Gets a random word with `random.choice()`. Its documentation can be found [here](https://www.w3schools.com/python/ref_random_choice.asp)\n",
    "2. Calculates `trie_runtime`\n",
    "3. Increments the total trie runtime in `trie_time`\n",
    "4. Calculates `binary_runtime`\n",
    "5. Increments the total binary search runtime in `binary_time`\n",
    "6. Calculates `average_trie_time` and `average_binary_time`"
   ]
  },
  {
   "cell_type": "code",
   "execution_count": 22,
   "metadata": {},
   "outputs": [],
   "source": [
    "def simulate_find(trie, words, num_simulations):\n",
    "    # initializes the variables\n",
    "    trie_time = 0\n",
    "    binary_time = 0\n",
    "    \n",
    "    # iterates for each simulation\n",
    "    for sim in range(num_simulations):\n",
    "        # gets the random word\n",
    "        random_word = random.choice(words)\n",
    "        \n",
    "        # times for trie find\n",
    "        trie_start = time.time()\n",
    "        find(trie, random_word)\n",
    "        trie_end = time.time()\n",
    "        \n",
    "        # adjusts trie total runtime\n",
    "        trie_runtime = trie_end - trie_start\n",
    "        trie_time += trie_runtime\n",
    "        \n",
    "        # times for binary search\n",
    "        binary_start = time.time()\n",
    "        binary_search(0, len(words), words, random_word)\n",
    "        binary_end = time.time()\n",
    "        \n",
    "        # adjusts binary search total runtime\n",
    "        binary_runtime = binary_end - binary_start\n",
    "        binary_time += binary_runtime\n",
    "    \n",
    "    # calculates the average\n",
    "    average_trie_time = trie_time / num_simulations\n",
    "    average_binary_time = binary_time / num_simulations\n",
    "    \n",
    "    # return the values\n",
    "    return (average_trie_time, average_binary_time)"
   ]
  },
  {
   "cell_type": "markdown",
   "metadata": {},
   "source": [
    "<details>    \n",
    "<summary>\n",
    "    <font size=\"3\" color=\"darkgreen\"><b>Hints for Step 1</b></font>\n",
    "</summary>\n",
    "<p>\n",
    "<ul>\n",
    "    <li>You want to use the <code>random.choice()</code> function with <code>words</code> as the parameter</li>\n",
    "    <li>Use the line of code <code>random_word = random.choice(words)</code></li>\n",
    "</ul>\n",
    "</p>"
   ]
  },
  {
   "cell_type": "markdown",
   "metadata": {},
   "source": [
    "<details>    \n",
    "<summary>\n",
    "    <font size=\"3\" color=\"darkgreen\"><b>Hint for Step 2</b></font>\n",
    "</summary>\n",
    "<p>\n",
    "<ul>\n",
    "    <li><code>trie_runtime</code> is the difference between <code>trie_end</code> and <code>trie_start</code></li>\n",
    "</ul>\n",
    "</p>"
   ]
  },
  {
   "cell_type": "markdown",
   "metadata": {},
   "source": [
    "<details>    \n",
    "<summary>\n",
    "    <font size=\"3\" color=\"darkgreen\"><b>Hint for Step 3</b></font>\n",
    "</summary>\n",
    "<p>\n",
    "<ul>\n",
    "    <li>Increment <code>trie_time</code> by <code>trie_runtime</code></li>\n",
    "</ul>\n",
    "</p>"
   ]
  },
  {
   "cell_type": "markdown",
   "metadata": {},
   "source": [
    "<details>    \n",
    "<summary>\n",
    "    <font size=\"3\" color=\"darkgreen\"><b>Hint for Step 4</b></font>\n",
    "</summary>\n",
    "<p>\n",
    "<ul>\n",
    "    <li><code>binary_runtime</code> is the difference between <code>binary_end</code> and <code>binary_start</code></li>\n",
    "</ul>\n",
    "</p>"
   ]
  },
  {
   "cell_type": "markdown",
   "metadata": {},
   "source": [
    "<details>    \n",
    "<summary>\n",
    "    <font size=\"3\" color=\"darkgreen\"><b>Hint for Step 5</b></font>\n",
    "</summary>\n",
    "<p>\n",
    "<ul>\n",
    "    <li>Increment <code>binary_time</code> by <code>binary_runtime</code></li>\n",
    "</ul>\n",
    "</p>"
   ]
  },
  {
   "cell_type": "markdown",
   "metadata": {},
   "source": [
    "<details>    \n",
    "<summary>\n",
    "    <font size=\"3\" color=\"darkgreen\"><b>Hint for Step 6</b></font>\n",
    "</summary>\n",
    "<p>\n",
    "<ul>\n",
    "    <li><code>average_trie_time</code> is equal to <code>trie_time</code> divided by <code>num_simulations</code></li>\n",
    "    <li><code>average_binary_time</code> is equal to <code>binary_time</code> divided by <code>num_simulations</code></li>\n",
    "</ul>\n",
    "</p>"
   ]
  },
  {
   "cell_type": "markdown",
   "metadata": {},
   "source": [
    "You should notice that on average, the `Trie` bests `binary_search()` by a very small margin"
   ]
  },
  {
   "cell_type": "code",
   "execution_count": 23,
   "metadata": {},
   "outputs": [
    {
     "name": "stdout",
     "output_type": "stream",
     "text": [
      "Average Trie Find Runtime: 1.1225299835205079e-05\n",
      "Average Binary Search Runtime: 1.9129645824432374e-05\n"
     ]
    }
   ],
   "source": [
    "runtimes = simulate_find(scrabble_trie, scrabble_words, 100000)\n",
    "print(f\"Average Trie Find Runtime: {runtimes[0]}\")\n",
    "print(f\"Average Binary Search Runtime: {runtimes[1]}\")"
   ]
  },
  {
   "cell_type": "markdown",
   "metadata": {},
   "source": [
    "The performance is pretty similar between our two methods for `find()`, but now let's revisit our `unscramble()` method, which I have coded for you again 😎"
   ]
  },
  {
   "cell_type": "code",
   "execution_count": 24,
   "metadata": {},
   "outputs": [],
   "source": [
    "def unscramble(node, scramble, possible_words, word):\n",
    "    # if it's a leaf, add it to the list\n",
    "    if node.is_leaf:\n",
    "        possible_words.append(word)\n",
    "    \n",
    "    # return early if there are no more letters left\n",
    "    if (np.sum(scramble) == 0):\n",
    "        return\n",
    "    \n",
    "    # go through each letter\n",
    "    for check_index in range(26):\n",
    "        # condition for if the word is viable\n",
    "        if (scramble[check_index] > 0 and node.children[check_index] != None):\n",
    "            \n",
    "            # adjust variables to recurse\n",
    "            word += chr(check_index + ord(\"A\"))\n",
    "            scramble[check_index] -= 1\n",
    "            \n",
    "            # recursively call\n",
    "            unscramble(node.children[check_index], scramble, possible_words, word)\n",
    "            \n",
    "            # reset to backtrack\n",
    "            scramble[check_index] += 1\n",
    "            word = word[:-1]"
   ]
  },
  {
   "cell_type": "markdown",
   "metadata": {},
   "source": [
    "Take a look at how much faster this is!"
   ]
  },
  {
   "cell_type": "code",
   "execution_count": 25,
   "metadata": {},
   "outputs": [
    {
     "data": {
      "text/plain": [
       "['AN', 'ANT', 'AT', 'NA', 'NAT', 'TA', 'TAN']"
      ]
     },
     "execution_count": 25,
     "metadata": {},
     "output_type": "execute_result"
    }
   ],
   "source": [
    "possible_words = []\n",
    "scramble_count = create_word_counts(\"ant\")\n",
    "unscramble(scrabble_trie, scramble_count, possible_words, \"\")\n",
    "possible_words"
   ]
  },
  {
   "cell_type": "markdown",
   "metadata": {},
   "source": [
    "Let's do some runtime analysis"
   ]
  },
  {
   "cell_type": "code",
   "execution_count": 26,
   "metadata": {},
   "outputs": [],
   "source": [
    "# function for simulating\n",
    "def simulate_scramble(trie, words, num_simulations):\n",
    "    \n",
    "    # initialize variables\n",
    "    trie_time = 0\n",
    "    list_time = 0\n",
    "    \n",
    "    # iterate through each simulation\n",
    "    for sim in range(num_simulations):\n",
    "        # random word\n",
    "        random_word = random.choice(words)\n",
    "        \n",
    "        # calculate trie runtime\n",
    "        trie_start = time.time()\n",
    "        unscramble(trie, create_word_counts(random_word), [], \"\")\n",
    "        trie_time += (time.time() - trie_start)\n",
    "        \n",
    "        # calculate list runtime\n",
    "        list_start = time.time()\n",
    "        unscramble_list(random_word, words)\n",
    "        list_time += (time.time() - list_start)\n",
    "        \n",
    "    # return averages\n",
    "    return (trie_time / num_simulations, list_time / num_simulations)"
   ]
  },
  {
   "cell_type": "markdown",
   "metadata": {},
   "source": [
    "Compared to `find()`, it is **much** more obvious that `scramble()` is better with the `Trie` implementation compare to the `List` implementation\n",
    "\n",
    "*Note: This cell takes ~20-30 seconds to run*"
   ]
  },
  {
   "cell_type": "code",
   "execution_count": 27,
   "metadata": {},
   "outputs": [
    {
     "name": "stdout",
     "output_type": "stream",
     "text": [
      "Average Trie Scramble Runtime: 0.029515576362609864\n",
      "Average List Scramble Runtime: 6.268676829338074\n"
     ]
    }
   ],
   "source": [
    "trie_scramble, list_scramble = simulate_scramble(scrabble_trie, scrabble_words, 10)\n",
    "\n",
    "print(f\"Average Trie Scramble Runtime: {trie_scramble}\")\n",
    "print(f\"Average List Scramble Runtime: {list_scramble}\")"
   ]
  }
 ],
 "metadata": {
  "kernelspec": {
   "display_name": "Python 3",
   "language": "python",
   "name": "python3"
  },
  "language_info": {
   "codemirror_mode": {
    "name": "ipython",
    "version": 3
   },
   "file_extension": ".py",
   "mimetype": "text/x-python",
   "name": "python",
   "nbconvert_exporter": "python",
   "pygments_lexer": "ipython3",
   "version": "3.7.3"
  }
 },
 "nbformat": 4,
 "nbformat_minor": 2
}
